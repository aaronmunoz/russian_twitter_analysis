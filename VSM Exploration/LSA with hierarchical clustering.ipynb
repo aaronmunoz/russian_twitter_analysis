{
 "cells": [
  {
   "cell_type": "code",
   "execution_count": 2,
   "metadata": {},
   "outputs": [],
   "source": [
    "import numpy as np\n",
    "import pandas as pd\n",
    "\n",
    "import string\n",
    "import importlib\n",
    "\n",
    "import russia_df_utils\n",
    "importlib.reload(russia_df_utils)\n",
    "from russia_df_utils import get_uncategorized_df_rows\n",
    "\n",
    "import nltk\n",
    "from nltk.corpus import stopwords\n",
    "from nltk import word_tokenize          \n",
    "from nltk.stem import WordNetLemmatizer \n",
    "from nltk.tokenize import TweetTokenizer\n",
    "from sklearn.feature_extraction.text import TfidfVectorizer, CountVectorizer\n",
    "from gensim import corpora, models, similarities, matutils\n",
    "from sklearn.cluster import KMeans, AgglomerativeClustering\n",
    "from sklearn.decomposition import NMF\n",
    "\n",
    "import matplotlib.pyplot as plt\n",
    "import matplotlib as mpl\n",
    "\n",
    "import seaborn as sns\n",
    "sns.set()\n",
    "\n",
    "%matplotlib inline\n",
    "\n",
    "import logging\n",
    "logging.basicConfig(format='%(asctime)s : %(levelname)s : %(message)s', level=logging.INFO)"
   ]
  },
  {
   "cell_type": "code",
   "execution_count": 3,
   "metadata": {},
   "outputs": [],
   "source": [
    "class LemmaTokenizer(object):\n",
    "    def __init__(self):\n",
    "        self.wnl = WordNetLemmatizer()\n",
    "        self.tokenizer = TweetTokenizer(preserve_case=False)\n",
    "    def __call__(self, doc):\n",
    "        tokens = self.tokenizer.tokenize(doc)\n",
    "        tokens = [word for word in tokens if word.isalpha()]\n",
    "        return [self.wnl.lemmatize(t) for t in tokens]\n"
   ]
  },
  {
   "cell_type": "code",
   "execution_count": 4,
   "metadata": {},
   "outputs": [],
   "source": [
    "clustering_text = get_uncategorized_df_rows(drop_retweets=True)['processed_text']"
   ]
  },
  {
   "cell_type": "code",
   "execution_count": 5,
   "metadata": {},
   "outputs": [
    {
     "name": "stderr",
     "output_type": "stream",
     "text": [
      "2018-03-07 04:30:11,279 : INFO : adding document #0 to Dictionary(0 unique tokens: [])\n",
      "2018-03-07 04:30:11,355 : INFO : adding document #10000 to Dictionary(0 unique tokens: [])\n",
      "2018-03-07 04:30:11,431 : INFO : adding document #20000 to Dictionary(0 unique tokens: [])\n",
      "2018-03-07 04:30:11,508 : INFO : adding document #30000 to Dictionary(0 unique tokens: [])\n",
      "2018-03-07 04:30:11,585 : INFO : adding document #40000 to Dictionary(0 unique tokens: [])\n",
      "2018-03-07 04:30:11,662 : INFO : adding document #50000 to Dictionary(0 unique tokens: [])\n",
      "2018-03-07 04:30:11,706 : INFO : built Dictionary(6586 unique tokens: ['reacts', 'dirt', 'drink', 'extra politics', 'al qaeda']...) from 51867 documents (total 120224 corpus positions)\n"
     ]
    }
   ],
   "source": [
    "stop_words = set(stopwords.words('english'))\n",
    "#stop_words.remove('not')\n",
    "#stop_words.remove('all')\n",
    "tfidf = TfidfVectorizer(stop_words=stop_words, ngram_range=(1,2), min_df=10, max_df=0.8)\n",
    "vectorized_tweets = tfidf.fit_transform(clustering_text.values)\n",
    "\n",
    "#pd.DataFrame(vectorized_tweets.todense(), \n",
    "#             columns=tfidf.get_feature_names()\n",
    "#            ).head()\n",
    "\n",
    "tfidf_corpus = matutils.Sparse2Corpus(vectorized_tweets.transpose())\n",
    "\n",
    "# Row indices\n",
    "id2word = dict((v, k) for k, v in tfidf.vocabulary_.items())\n",
    "\n",
    "# This is a hack for Python 3!\n",
    "id2word = corpora.Dictionary.from_corpus(tfidf_corpus, \n",
    "                                         id2word=id2word)\n",
    "\n",
    "\n"
   ]
  },
  {
   "cell_type": "code",
   "execution_count": 6,
   "metadata": {},
   "outputs": [
    {
     "name": "stderr",
     "output_type": "stream",
     "text": [
      "2018-03-07 04:30:11,711 : INFO : using serial LSI version on this node\n",
      "2018-03-07 04:30:11,712 : INFO : updating model with new documents\n",
      "2018-03-07 04:30:11,774 : INFO : preparing a new chunk of documents\n",
      "2018-03-07 04:30:11,859 : INFO : using 100 extra samples and 10 power iterations\n",
      "2018-03-07 04:30:11,861 : INFO : 1st phase: constructing (6586, 110) action matrix\n",
      "2018-03-07 04:30:11,992 : INFO : orthonormalizing (6586, 110) action matrix\n",
      "2018-03-07 04:30:12,841 : INFO : 2nd phase: running dense svd on (110, 20000) matrix\n",
      "2018-03-07 04:30:13,198 : INFO : computing the final decomposition\n",
      "2018-03-07 04:30:13,201 : INFO : keeping 10 factors (discarding 79.665% of energy spectrum)\n",
      "2018-03-07 04:30:13,206 : INFO : processed documents up to #20000\n",
      "2018-03-07 04:30:13,212 : INFO : topic #0(12.269): 0.656*\"realdonaldtrump\" + 0.461*\"hillaryclinton\" + 0.352*\"politics\" + 0.115*\"obama\" + 0.109*\"news\" + 0.092*\"campaign\" + 0.089*\"says\" + 0.074*\"hillaryclinton realdonaldtrump\" + 0.074*\"people\" + 0.070*\"realdonaldtrump hillaryclinton\"\n",
      "2018-03-07 04:30:13,214 : INFO : topic #1(8.720): -0.750*\"hillaryclinton\" + 0.570*\"realdonaldtrump\" + -0.087*\"trumpforpresident\" + 0.084*\"politics\" + -0.067*\"bill\" + -0.067*\"hillaryforprison2016\" + -0.066*\"like\" + -0.061*\"bill hillaryclinton\" + -0.052*\"hillaryclinton campaign\" + -0.047*\"people\"\n",
      "2018-03-07 04:30:13,217 : INFO : topic #2(8.432): 0.349*\"people\" + 0.271*\"like\" + -0.264*\"hillaryclinton\" + -0.236*\"politics\" + 0.192*\"obama\" + 0.160*\"one\" + 0.159*\"want\" + 0.157*\"trumpforpresident\" + 0.153*\"islamkills\" + 0.152*\"love\"\n",
      "2018-03-07 04:30:13,219 : INFO : topic #3(7.938): 0.680*\"trumpforpresident\" + 0.390*\"hillaryforprison2016\" + 0.254*\"hillaryforprison2016 trumpforpresident\" + -0.218*\"obama\" + -0.189*\"politics\" + 0.147*\"vote\" + 0.132*\"realdonaldtrump\" + 0.116*\"maga\" + -0.110*\"like\" + 0.106*\"trump2k16\"\n",
      "2018-03-07 04:30:13,222 : INFO : topic #4(7.486): -0.531*\"obama\" + 0.306*\"like\" + 0.279*\"people\" + -0.260*\"islamkills\" + -0.232*\"politics\" + -0.193*\"refugees\" + -0.190*\"trumpforpresident\" + -0.189*\"news\" + 0.180*\"realdonaldtrump\" + -0.155*\"brussels\"\n",
      "2018-03-07 04:30:13,418 : INFO : preparing a new chunk of documents\n",
      "2018-03-07 04:30:13,503 : INFO : using 100 extra samples and 10 power iterations\n",
      "2018-03-07 04:30:13,504 : INFO : 1st phase: constructing (6586, 110) action matrix\n",
      "2018-03-07 04:30:13,636 : INFO : orthonormalizing (6586, 110) action matrix\n",
      "2018-03-07 04:30:14,375 : INFO : 2nd phase: running dense svd on (110, 20000) matrix\n",
      "2018-03-07 04:30:14,739 : INFO : computing the final decomposition\n",
      "2018-03-07 04:30:14,743 : INFO : keeping 10 factors (discarding 79.177% of energy spectrum)\n",
      "2018-03-07 04:30:14,748 : INFO : merging projections: (6586, 10) + (6586, 10)\n",
      "2018-03-07 04:30:14,752 : INFO : keeping 10 factors (discarding 3.410% of energy spectrum)\n",
      "2018-03-07 04:30:14,755 : INFO : processed documents up to #40000\n",
      "2018-03-07 04:30:14,758 : INFO : topic #0(17.471): 0.665*\"realdonaldtrump\" + 0.463*\"hillaryclinton\" + 0.348*\"politics\" + 0.112*\"news\" + 0.110*\"obama\" + 0.094*\"campaign\" + 0.086*\"says\" + 0.074*\"hillaryclinton realdonaldtrump\" + 0.069*\"realdonaldtrump hillaryclinton\" + 0.068*\"people\"\n",
      "2018-03-07 04:30:14,760 : INFO : topic #1(12.514): 0.771*\"hillaryclinton\" + -0.570*\"realdonaldtrump\" + 0.074*\"bill\" + 0.068*\"bill hillaryclinton\" + -0.059*\"politics\" + 0.056*\"trumpforpresident\" + 0.050*\"hillaryclinton campaign\" + 0.045*\"hillaryforprison2016\" + 0.040*\"fbi\" + 0.036*\"emails\"\n",
      "2018-03-07 04:30:14,763 : INFO : topic #2(11.872): 0.321*\"people\" + 0.286*\"like\" + 0.240*\"love\" + -0.234*\"politics\" + -0.202*\"hillaryclinton\" + 0.165*\"obama\" + 0.161*\"one\" + 0.157*\"want\" + 0.152*\"islamkills\" + 0.151*\"know\"\n",
      "2018-03-07 04:30:14,765 : INFO : topic #3(11.088): -0.691*\"trumpforpresident\" + -0.384*\"hillaryforprison2016\" + -0.255*\"hillaryforprison2016 trumpforpresident\" + 0.226*\"politics\" + 0.210*\"obama\" + -0.129*\"realdonaldtrump\" + -0.114*\"vote\" + -0.113*\"maga\" + -0.113*\"trumppence16\" + 0.106*\"like\"\n",
      "2018-03-07 04:30:14,768 : INFO : topic #4(10.465): 0.576*\"obama\" + 0.357*\"politics\" + -0.243*\"realdonaldtrump\" + 0.232*\"trumpforpresident\" + -0.210*\"like\" + -0.209*\"love\" + -0.170*\"hillaryclinton\" + 0.159*\"islamkills\" + -0.158*\"people\" + 0.148*\"news\"\n",
      "2018-03-07 04:30:14,841 : INFO : preparing a new chunk of documents\n",
      "2018-03-07 04:30:14,894 : INFO : using 100 extra samples and 10 power iterations\n",
      "2018-03-07 04:30:14,895 : INFO : 1st phase: constructing (6586, 110) action matrix\n",
      "2018-03-07 04:30:14,970 : INFO : orthonormalizing (6586, 110) action matrix\n",
      "2018-03-07 04:30:15,517 : INFO : 2nd phase: running dense svd on (110, 11867) matrix\n",
      "2018-03-07 04:30:15,741 : INFO : computing the final decomposition\n",
      "2018-03-07 04:30:15,745 : INFO : keeping 10 factors (discarding 79.559% of energy spectrum)\n",
      "2018-03-07 04:30:15,750 : INFO : merging projections: (6586, 10) + (6586, 10)\n",
      "2018-03-07 04:30:15,754 : INFO : keeping 10 factors (discarding 1.385% of energy spectrum)\n",
      "2018-03-07 04:30:15,758 : INFO : processed documents up to #51867\n",
      "2018-03-07 04:30:15,760 : INFO : topic #0(19.843): 0.673*\"realdonaldtrump\" + 0.455*\"hillaryclinton\" + 0.345*\"politics\" + 0.111*\"news\" + 0.106*\"obama\" + 0.091*\"campaign\" + 0.084*\"says\" + 0.072*\"hillaryclinton realdonaldtrump\" + 0.068*\"realdonaldtrump hillaryclinton\" + 0.068*\"people\"\n",
      "2018-03-07 04:30:15,763 : INFO : topic #1(14.168): 0.761*\"hillaryclinton\" + -0.581*\"realdonaldtrump\" + 0.072*\"bill\" + 0.064*\"bill hillaryclinton\" + 0.056*\"trumpforpresident\" + 0.051*\"hillaryclinton campaign\" + 0.046*\"hillaryforprison2016\" + 0.043*\"fbi\" + 0.042*\"obama\" + 0.040*\"like\"\n",
      "2018-03-07 04:30:15,765 : INFO : topic #2(13.467): 0.321*\"people\" + 0.251*\"like\" + 0.249*\"love\" + -0.246*\"politics\" + -0.221*\"hillaryclinton\" + 0.194*\"trumpforpresident\" + 0.159*\"one\" + 0.156*\"obama\" + 0.154*\"islamkills\" + 0.153*\"know\"\n",
      "2018-03-07 04:30:15,768 : INFO : topic #3(12.739): -0.688*\"trumpforpresident\" + -0.397*\"hillaryforprison2016\" + -0.266*\"hillaryforprison2016 trumpforpresident\" + 0.194*\"obama\" + 0.190*\"politics\" + -0.113*\"maga\" + -0.110*\"realdonaldtrump\" + 0.110*\"people\" + -0.107*\"trumppence16\" + -0.107*\"vote\"\n",
      "2018-03-07 04:30:15,770 : INFO : topic #4(11.878): 0.553*\"obama\" + 0.378*\"politics\" + -0.307*\"love\" + -0.226*\"realdonaldtrump\" + 0.203*\"trumpforpresident\" + 0.195*\"islamkills\" + -0.190*\"hillaryclinton\" + -0.138*\"people\" + 0.137*\"news\" + 0.126*\"hillaryforprison2016\"\n"
     ]
    }
   ],
   "source": [
    "lsi = models.LsiModel(tfidf_corpus, id2word=id2word, num_topics=10, power_iters=10)\n"
   ]
  },
  {
   "cell_type": "code",
   "execution_count": 7,
   "metadata": {},
   "outputs": [
    {
     "name": "stderr",
     "output_type": "stream",
     "text": [
      "2018-03-07 04:30:19,534 : INFO : topic #0(19.843): 0.673*\"realdonaldtrump\" + 0.455*\"hillaryclinton\" + 0.345*\"politics\" + 0.111*\"news\" + 0.106*\"obama\" + 0.091*\"campaign\" + 0.084*\"says\" + 0.072*\"hillaryclinton realdonaldtrump\" + 0.068*\"realdonaldtrump hillaryclinton\" + 0.068*\"people\"\n",
      "2018-03-07 04:30:19,535 : INFO : topic #1(14.168): 0.761*\"hillaryclinton\" + -0.581*\"realdonaldtrump\" + 0.072*\"bill\" + 0.064*\"bill hillaryclinton\" + 0.056*\"trumpforpresident\" + 0.051*\"hillaryclinton campaign\" + 0.046*\"hillaryforprison2016\" + 0.043*\"fbi\" + 0.042*\"obama\" + 0.040*\"like\"\n",
      "2018-03-07 04:30:19,536 : INFO : topic #2(13.467): 0.321*\"people\" + 0.251*\"like\" + 0.249*\"love\" + -0.246*\"politics\" + -0.221*\"hillaryclinton\" + 0.194*\"trumpforpresident\" + 0.159*\"one\" + 0.156*\"obama\" + 0.154*\"islamkills\" + 0.153*\"know\"\n",
      "2018-03-07 04:30:19,537 : INFO : topic #3(12.739): -0.688*\"trumpforpresident\" + -0.397*\"hillaryforprison2016\" + -0.266*\"hillaryforprison2016 trumpforpresident\" + 0.194*\"obama\" + 0.190*\"politics\" + -0.113*\"maga\" + -0.110*\"realdonaldtrump\" + 0.110*\"people\" + -0.107*\"trumppence16\" + -0.107*\"vote\"\n",
      "2018-03-07 04:30:19,538 : INFO : topic #4(11.878): 0.553*\"obama\" + 0.378*\"politics\" + -0.307*\"love\" + -0.226*\"realdonaldtrump\" + 0.203*\"trumpforpresident\" + 0.195*\"islamkills\" + -0.190*\"hillaryclinton\" + -0.138*\"people\" + 0.137*\"news\" + 0.126*\"hillaryforprison2016\"\n",
      "2018-03-07 04:30:19,538 : INFO : topic #5(11.659): 0.493*\"politics\" + 0.460*\"love\" + -0.341*\"islamkills\" + -0.189*\"realdonaldtrump\" + -0.188*\"refugees\" + -0.182*\"brussels\" + -0.155*\"news\" + -0.154*\"stopislam\" + -0.146*\"people\" + -0.133*\"hillaryclinton\"\n",
      "2018-03-07 04:30:19,539 : INFO : topic #6(11.410): 0.447*\"obama\" + -0.423*\"islamkills\" + -0.356*\"politics\" + 0.355*\"news\" + -0.224*\"brussels\" + -0.221*\"refugees\" + -0.192*\"stopislam\" + 0.144*\"world\" + -0.140*\"prayforbrussels\" + 0.129*\"president\"\n",
      "2018-03-07 04:30:19,540 : INFO : topic #7(11.218): -0.569*\"people\" + 0.544*\"love\" + -0.351*\"like\" + 0.222*\"islamkills\" + -0.176*\"politics\" + 0.153*\"news\" + 0.122*\"refugees\" + 0.118*\"brussels\" + 0.100*\"stopislam\" + 0.078*\"prayforbrussels\"\n",
      "2018-03-07 04:30:19,541 : INFO : topic #8(11.030): -0.816*\"like\" + 0.403*\"people\" + 0.128*\"tcot\" + 0.124*\"pjnet\" + -0.115*\"islamkills\" + -0.084*\"looks\" + -0.082*\"looks like\" + -0.073*\"look\" + 0.071*\"black\" + 0.069*\"america\"\n",
      "2018-03-07 04:30:19,541 : INFO : topic #9(9.866): -0.433*\"love\" + -0.387*\"people\" + 0.380*\"pjnet\" + 0.364*\"tcot\" + -0.206*\"obama\" + 0.191*\"tcot pjnet\" + 0.176*\"ccot\" + 0.155*\"america\" + 0.145*\"one\" + 0.134*\"great\"\n"
     ]
    },
    {
     "data": {
      "text/plain": [
       "[(0,\n",
       "  '0.673*\"realdonaldtrump\" + 0.455*\"hillaryclinton\" + 0.345*\"politics\" + 0.111*\"news\" + 0.106*\"obama\" + 0.091*\"campaign\" + 0.084*\"says\" + 0.072*\"hillaryclinton realdonaldtrump\" + 0.068*\"realdonaldtrump hillaryclinton\" + 0.068*\"people\"'),\n",
       " (1,\n",
       "  '0.761*\"hillaryclinton\" + -0.581*\"realdonaldtrump\" + 0.072*\"bill\" + 0.064*\"bill hillaryclinton\" + 0.056*\"trumpforpresident\" + 0.051*\"hillaryclinton campaign\" + 0.046*\"hillaryforprison2016\" + 0.043*\"fbi\" + 0.042*\"obama\" + 0.040*\"like\"'),\n",
       " (2,\n",
       "  '0.321*\"people\" + 0.251*\"like\" + 0.249*\"love\" + -0.246*\"politics\" + -0.221*\"hillaryclinton\" + 0.194*\"trumpforpresident\" + 0.159*\"one\" + 0.156*\"obama\" + 0.154*\"islamkills\" + 0.153*\"know\"'),\n",
       " (3,\n",
       "  '-0.688*\"trumpforpresident\" + -0.397*\"hillaryforprison2016\" + -0.266*\"hillaryforprison2016 trumpforpresident\" + 0.194*\"obama\" + 0.190*\"politics\" + -0.113*\"maga\" + -0.110*\"realdonaldtrump\" + 0.110*\"people\" + -0.107*\"trumppence16\" + -0.107*\"vote\"'),\n",
       " (4,\n",
       "  '0.553*\"obama\" + 0.378*\"politics\" + -0.307*\"love\" + -0.226*\"realdonaldtrump\" + 0.203*\"trumpforpresident\" + 0.195*\"islamkills\" + -0.190*\"hillaryclinton\" + -0.138*\"people\" + 0.137*\"news\" + 0.126*\"hillaryforprison2016\"'),\n",
       " (5,\n",
       "  '0.493*\"politics\" + 0.460*\"love\" + -0.341*\"islamkills\" + -0.189*\"realdonaldtrump\" + -0.188*\"refugees\" + -0.182*\"brussels\" + -0.155*\"news\" + -0.154*\"stopislam\" + -0.146*\"people\" + -0.133*\"hillaryclinton\"'),\n",
       " (6,\n",
       "  '0.447*\"obama\" + -0.423*\"islamkills\" + -0.356*\"politics\" + 0.355*\"news\" + -0.224*\"brussels\" + -0.221*\"refugees\" + -0.192*\"stopislam\" + 0.144*\"world\" + -0.140*\"prayforbrussels\" + 0.129*\"president\"'),\n",
       " (7,\n",
       "  '-0.569*\"people\" + 0.544*\"love\" + -0.351*\"like\" + 0.222*\"islamkills\" + -0.176*\"politics\" + 0.153*\"news\" + 0.122*\"refugees\" + 0.118*\"brussels\" + 0.100*\"stopislam\" + 0.078*\"prayforbrussels\"'),\n",
       " (8,\n",
       "  '-0.816*\"like\" + 0.403*\"people\" + 0.128*\"tcot\" + 0.124*\"pjnet\" + -0.115*\"islamkills\" + -0.084*\"looks\" + -0.082*\"looks like\" + -0.073*\"look\" + 0.071*\"black\" + 0.069*\"america\"'),\n",
       " (9,\n",
       "  '-0.433*\"love\" + -0.387*\"people\" + 0.380*\"pjnet\" + 0.364*\"tcot\" + -0.206*\"obama\" + 0.191*\"tcot pjnet\" + 0.176*\"ccot\" + 0.155*\"america\" + 0.145*\"one\" + 0.134*\"great\"')]"
      ]
     },
     "execution_count": 7,
     "metadata": {},
     "output_type": "execute_result"
    }
   ],
   "source": [
    "lsi.print_topics()"
   ]
  },
  {
   "cell_type": "code",
   "execution_count": 8,
   "metadata": {},
   "outputs": [
    {
     "data": {
      "text/plain": [
       "127.27874144922478"
      ]
     },
     "execution_count": 8,
     "metadata": {},
     "output_type": "execute_result"
    },
    {
     "data": {
      "image/png": "[encoded data removed]",
      "text/plain": [
       "<matplotlib.figure.Figure at 0x7fbc0c59f7f0>"
      ]
     },
     "metadata": {},
     "output_type": "display_data"
    }
   ],
   "source": [
    "plt.plot(lsi.projection.s)\n",
    "np.sum(lsi.projection.s)"
   ]
  },
  {
   "cell_type": "code",
   "execution_count": 9,
   "metadata": {},
   "outputs": [
    {
     "name": "stderr",
     "output_type": "stream",
     "text": [
      "2018-03-07 04:30:41,458 : INFO : using serial LSI version on this node\n",
      "2018-03-07 04:30:41,459 : INFO : updating model with new documents\n",
      "2018-03-07 04:30:41,525 : INFO : preparing a new chunk of documents\n",
      "2018-03-07 04:30:41,610 : INFO : using 100 extra samples and 10 power iterations\n",
      "2018-03-07 04:30:41,612 : INFO : 1st phase: constructing (6586, 105) action matrix\n",
      "2018-03-07 04:30:41,726 : INFO : orthonormalizing (6586, 105) action matrix\n",
      "2018-03-07 04:30:42,391 : INFO : 2nd phase: running dense svd on (105, 20000) matrix\n",
      "2018-03-07 04:30:42,720 : INFO : computing the final decomposition\n",
      "2018-03-07 04:30:42,723 : INFO : keeping 5 factors (discarding 86.987% of energy spectrum)\n",
      "2018-03-07 04:30:42,728 : INFO : processed documents up to #20000\n",
      "2018-03-07 04:30:42,730 : INFO : topic #0(12.269): 0.656*\"realdonaldtrump\" + 0.461*\"hillaryclinton\" + 0.352*\"politics\" + 0.115*\"obama\" + 0.109*\"news\" + 0.092*\"campaign\" + 0.089*\"says\" + 0.074*\"hillaryclinton realdonaldtrump\" + 0.074*\"people\" + 0.070*\"realdonaldtrump hillaryclinton\"\n",
      "2018-03-07 04:30:42,733 : INFO : topic #1(8.720): 0.750*\"hillaryclinton\" + -0.570*\"realdonaldtrump\" + 0.087*\"trumpforpresident\" + -0.084*\"politics\" + 0.067*\"bill\" + 0.067*\"hillaryforprison2016\" + 0.066*\"like\" + 0.061*\"bill hillaryclinton\" + 0.052*\"hillaryclinton campaign\" + 0.047*\"people\"\n",
      "2018-03-07 04:30:42,735 : INFO : topic #2(8.432): 0.349*\"people\" + 0.271*\"like\" + -0.264*\"hillaryclinton\" + -0.236*\"politics\" + 0.192*\"obama\" + 0.160*\"one\" + 0.159*\"want\" + 0.157*\"trumpforpresident\" + 0.153*\"islamkills\" + 0.152*\"love\"\n",
      "2018-03-07 04:30:42,738 : INFO : topic #3(7.938): -0.680*\"trumpforpresident\" + -0.390*\"hillaryforprison2016\" + -0.254*\"hillaryforprison2016 trumpforpresident\" + 0.218*\"obama\" + 0.189*\"politics\" + -0.147*\"vote\" + -0.132*\"realdonaldtrump\" + -0.116*\"maga\" + 0.110*\"like\" + -0.106*\"trump2k16\"\n",
      "2018-03-07 04:30:42,740 : INFO : topic #4(7.486): -0.531*\"obama\" + 0.306*\"like\" + 0.279*\"people\" + -0.260*\"islamkills\" + -0.232*\"politics\" + -0.193*\"refugees\" + -0.190*\"trumpforpresident\" + -0.189*\"news\" + 0.180*\"realdonaldtrump\" + -0.155*\"brussels\"\n",
      "2018-03-07 04:30:42,951 : INFO : preparing a new chunk of documents\n",
      "2018-03-07 04:30:43,080 : INFO : using 100 extra samples and 10 power iterations\n",
      "2018-03-07 04:30:43,081 : INFO : 1st phase: constructing (6586, 105) action matrix\n",
      "2018-03-07 04:30:43,222 : INFO : orthonormalizing (6586, 105) action matrix\n",
      "2018-03-07 04:30:43,902 : INFO : 2nd phase: running dense svd on (105, 20000) matrix\n",
      "2018-03-07 04:30:44,293 : INFO : computing the final decomposition\n",
      "2018-03-07 04:30:44,297 : INFO : keeping 5 factors (discarding 86.494% of energy spectrum)\n",
      "2018-03-07 04:30:44,301 : INFO : merging projections: (6586, 5) + (6586, 5)\n",
      "2018-03-07 04:30:44,305 : INFO : keeping 5 factors (discarding 6.171% of energy spectrum)\n",
      "2018-03-07 04:30:44,308 : INFO : processed documents up to #40000\n",
      "2018-03-07 04:30:44,311 : INFO : topic #0(17.470): 0.666*\"realdonaldtrump\" + 0.463*\"hillaryclinton\" + 0.347*\"politics\" + 0.111*\"news\" + 0.109*\"obama\" + 0.094*\"campaign\" + 0.086*\"says\" + 0.074*\"hillaryclinton realdonaldtrump\" + 0.069*\"realdonaldtrump hillaryclinton\" + 0.068*\"people\"\n",
      "2018-03-07 04:30:44,313 : INFO : topic #1(12.513): 0.771*\"hillaryclinton\" + -0.570*\"realdonaldtrump\" + 0.074*\"bill\" + 0.068*\"bill hillaryclinton\" + -0.060*\"politics\" + 0.055*\"trumpforpresident\" + 0.050*\"hillaryclinton campaign\" + 0.045*\"hillaryforprison2016\" + 0.040*\"fbi\" + 0.036*\"emails\"\n",
      "2018-03-07 04:30:44,316 : INFO : topic #2(11.862): 0.339*\"people\" + 0.295*\"like\" + -0.242*\"politics\" + 0.208*\"love\" + -0.200*\"hillaryclinton\" + 0.170*\"obama\" + 0.158*\"islamkills\" + 0.157*\"want\" + 0.154*\"one\" + 0.152*\"trumpforpresident\"\n",
      "2018-03-07 04:30:44,318 : INFO : topic #3(11.074): -0.679*\"trumpforpresident\" + -0.377*\"hillaryforprison2016\" + -0.250*\"hillaryforprison2016 trumpforpresident\" + 0.238*\"politics\" + 0.236*\"obama\" + -0.138*\"realdonaldtrump\" + -0.113*\"vote\" + -0.112*\"maga\" + -0.111*\"trumppence16\" + -0.101*\"trump2k16\"\n",
      "2018-03-07 04:30:44,321 : INFO : topic #4(8.551): -0.792*\"love\" + 0.357*\"obama\" + 0.189*\"islamkills\" + 0.131*\"refugees\" + 0.130*\"trumpforpresident\" + 0.125*\"news\" + 0.105*\"brussels\" + -0.091*\"realdonaldtrump\" + 0.085*\"stopislam\" + -0.081*\"like\"\n",
      "2018-03-07 04:30:44,394 : INFO : preparing a new chunk of documents\n",
      "2018-03-07 04:30:44,446 : INFO : using 100 extra samples and 10 power iterations\n",
      "2018-03-07 04:30:44,447 : INFO : 1st phase: constructing (6586, 105) action matrix\n",
      "2018-03-07 04:30:44,584 : INFO : orthonormalizing (6586, 105) action matrix\n",
      "2018-03-07 04:30:45,025 : INFO : 2nd phase: running dense svd on (105, 11867) matrix\n",
      "2018-03-07 04:30:45,283 : INFO : computing the final decomposition\n",
      "2018-03-07 04:30:45,286 : INFO : keeping 5 factors (discarding 86.761% of energy spectrum)\n",
      "2018-03-07 04:30:45,291 : INFO : merging projections: (6586, 5) + (6586, 5)\n",
      "2018-03-07 04:30:45,294 : INFO : keeping 5 factors (discarding 0.949% of energy spectrum)\n",
      "2018-03-07 04:30:45,297 : INFO : processed documents up to #51867\n",
      "2018-03-07 04:30:45,300 : INFO : topic #0(19.842): 0.673*\"realdonaldtrump\" + 0.455*\"hillaryclinton\" + 0.346*\"politics\" + 0.111*\"news\" + 0.106*\"obama\" + 0.091*\"campaign\" + 0.084*\"says\" + 0.072*\"hillaryclinton realdonaldtrump\" + 0.068*\"realdonaldtrump hillaryclinton\" + 0.068*\"people\"\n",
      "2018-03-07 04:30:45,302 : INFO : topic #1(14.141): 0.760*\"hillaryclinton\" + -0.583*\"realdonaldtrump\" + 0.072*\"bill\" + 0.064*\"bill hillaryclinton\" + 0.051*\"hillaryclinton campaign\" + 0.047*\"trumpforpresident\" + 0.045*\"obama\" + 0.043*\"fbi\" + 0.043*\"like\" + 0.041*\"hillaryforprison2016\"\n",
      "2018-03-07 04:30:45,305 : INFO : topic #2(13.448): 0.332*\"people\" + 0.268*\"like\" + -0.255*\"politics\" + 0.216*\"love\" + -0.216*\"hillaryclinton\" + 0.196*\"trumpforpresident\" + 0.161*\"islamkills\" + 0.156*\"obama\" + 0.154*\"one\" + 0.150*\"want\"\n",
      "2018-03-07 04:30:45,307 : INFO : topic #3(12.701): -0.676*\"trumpforpresident\" + -0.390*\"hillaryforprison2016\" + -0.261*\"hillaryforprison2016 trumpforpresident\" + 0.222*\"obama\" + 0.207*\"politics\" + 0.115*\"people\" + -0.112*\"realdonaldtrump\" + -0.112*\"maga\" + -0.105*\"trumppence16\" + -0.105*\"vote\"\n",
      "2018-03-07 04:30:45,309 : INFO : topic #4(10.243): -0.837*\"love\" + 0.309*\"obama\" + 0.190*\"islamkills\" + 0.122*\"refugees\" + 0.110*\"news\" + 0.106*\"brussels\" + 0.100*\"trumpforpresident\" + 0.085*\"stopislam\" + -0.083*\"hillaryclinton\" + -0.079*\"hate\"\n"
     ]
    }
   ],
   "source": [
    "lsi_5 = models.LsiModel(tfidf_corpus, id2word=id2word, num_topics=5, power_iters=10)"
   ]
  },
  {
   "cell_type": "code",
   "execution_count": 23,
   "metadata": {},
   "outputs": [
    {
     "name": "stderr",
     "output_type": "stream",
     "text": [
      "2018-03-06 04:03:14,053 : INFO : topic #0(19.857): 0.663*\"realdonaldtrump\" + 0.451*\"hillaryclinton\" + 0.342*\"politics\" + 0.110*\"news\" + 0.109*\"not\" + 0.107*\"obama\" + 0.090*\"campaign\" + 0.083*\"says\" + 0.071*\"hillaryclinton realdonaldtrump\" + 0.071*\"people\"\n",
      "2018-03-06 04:03:14,057 : INFO : topic #1(14.227): 0.501*\"not\" + -0.433*\"realdonaldtrump\" + 0.257*\"hillaryclinton\" + 0.218*\"all\" + 0.206*\"people\" + -0.192*\"politics\" + 0.160*\"like\" + 0.125*\"love\" + 0.122*\"islamkills\" + 0.113*\"know\"\n",
      "2018-03-06 04:03:14,060 : INFO : topic #2(14.007): -0.750*\"hillaryclinton\" + 0.410*\"realdonaldtrump\" + 0.290*\"not\" + 0.119*\"people\" + 0.112*\"all\" + -0.103*\"politics\" + 0.082*\"love\" + 0.075*\"like\" + 0.069*\"islamkills\" + -0.067*\"bill\"\n",
      "2018-03-06 04:03:14,061 : INFO : topic #3(12.716): -0.665*\"trumpforpresident\" + -0.379*\"hillaryforprison2016\" + 0.345*\"not\" + -0.255*\"hillaryforprison2016 trumpforpresident\" + 0.244*\"politics\" + -0.114*\"maga\" + -0.111*\"vote\" + 0.109*\"obama\" + -0.106*\"trumppence16\" + -0.094*\"trump2k16\"\n",
      "2018-03-06 04:03:14,063 : INFO : topic #4(11.024): -0.661*\"love\" + 0.559*\"not\" + 0.210*\"trumpforpresident\" + -0.150*\"people\" + -0.142*\"all\" + -0.141*\"like\" + 0.124*\"hillaryforprison2016\" + -0.093*\"obama\" + 0.084*\"hillaryforprison2016 trumpforpresident\" + -0.079*\"one\"\n"
     ]
    },
    {
     "data": {
      "text/plain": [
       "[(0,\n",
       "  '0.663*\"realdonaldtrump\" + 0.451*\"hillaryclinton\" + 0.342*\"politics\" + 0.110*\"news\" + 0.109*\"not\" + 0.107*\"obama\" + 0.090*\"campaign\" + 0.083*\"says\" + 0.071*\"hillaryclinton realdonaldtrump\" + 0.071*\"people\"'),\n",
       " (1,\n",
       "  '0.501*\"not\" + -0.433*\"realdonaldtrump\" + 0.257*\"hillaryclinton\" + 0.218*\"all\" + 0.206*\"people\" + -0.192*\"politics\" + 0.160*\"like\" + 0.125*\"love\" + 0.122*\"islamkills\" + 0.113*\"know\"'),\n",
       " (2,\n",
       "  '-0.750*\"hillaryclinton\" + 0.410*\"realdonaldtrump\" + 0.290*\"not\" + 0.119*\"people\" + 0.112*\"all\" + -0.103*\"politics\" + 0.082*\"love\" + 0.075*\"like\" + 0.069*\"islamkills\" + -0.067*\"bill\"'),\n",
       " (3,\n",
       "  '-0.665*\"trumpforpresident\" + -0.379*\"hillaryforprison2016\" + 0.345*\"not\" + -0.255*\"hillaryforprison2016 trumpforpresident\" + 0.244*\"politics\" + -0.114*\"maga\" + -0.111*\"vote\" + 0.109*\"obama\" + -0.106*\"trumppence16\" + -0.094*\"trump2k16\"'),\n",
       " (4,\n",
       "  '-0.661*\"love\" + 0.559*\"not\" + 0.210*\"trumpforpresident\" + -0.150*\"people\" + -0.142*\"all\" + -0.141*\"like\" + 0.124*\"hillaryforprison2016\" + -0.093*\"obama\" + 0.084*\"hillaryforprison2016 trumpforpresident\" + -0.079*\"one\"')]"
      ]
     },
     "execution_count": 23,
     "metadata": {},
     "output_type": "execute_result"
    }
   ],
   "source": [
    "lsi_5.print_topics()"
   ]
  },
  {
   "cell_type": "code",
   "execution_count": 34,
   "metadata": {},
   "outputs": [
    {
     "ename": "NameError",
     "evalue": "name 'lsi_5' is not defined",
     "output_type": "error",
     "traceback": [
      "\u001b[0;31m---------------------------------------------------------------------------\u001b[0m",
      "\u001b[0;31mNameError\u001b[0m                                 Traceback (most recent call last)",
      "\u001b[0;32m<ipython-input-34-426df4a85189>\u001b[0m in \u001b[0;36m<module>\u001b[0;34m()\u001b[0m\n\u001b[1;32m      1\u001b[0m \u001b[0;31m# Retrieve vectors for the original tfidf corpus in the LSI space (\"transform\" in sklearn)\u001b[0m\u001b[0;34m\u001b[0m\u001b[0;34m\u001b[0m\u001b[0m\n\u001b[0;32m----> 2\u001b[0;31m \u001b[0mlsi_corpus\u001b[0m \u001b[0;34m=\u001b[0m \u001b[0mlsi_5\u001b[0m\u001b[0;34m[\u001b[0m\u001b[0mtfidf_corpus\u001b[0m\u001b[0;34m]\u001b[0m\u001b[0;34m\u001b[0m\u001b[0m\n\u001b[0m\u001b[1;32m      3\u001b[0m \u001b[0;34m\u001b[0m\u001b[0m\n\u001b[1;32m      4\u001b[0m \u001b[0;31m# Dump the resulting document vectors into a list so we can take a look\u001b[0m\u001b[0;34m\u001b[0m\u001b[0;34m\u001b[0m\u001b[0m\n\u001b[1;32m      5\u001b[0m \u001b[0mdoc_vecs\u001b[0m \u001b[0;34m=\u001b[0m \u001b[0;34m[\u001b[0m\u001b[0mdoc\u001b[0m \u001b[0;32mfor\u001b[0m \u001b[0mdoc\u001b[0m \u001b[0;32min\u001b[0m \u001b[0mlsi_corpus\u001b[0m\u001b[0;34m]\u001b[0m\u001b[0;34m\u001b[0m\u001b[0m\n",
      "\u001b[0;31mNameError\u001b[0m: name 'lsi_5' is not defined"
     ]
    }
   ],
   "source": [
    "# Retrieve vectors for the original tfidf corpus in the LSI space (\"transform\" in sklearn)\n",
    "lsi_corpus = lsi_5[tfidf_corpus]\n",
    "\n",
    "# Dump the resulting document vectors into a list so we can take a look\n",
    "doc_vecs = [doc for doc in lsi_corpus]\n",
    "ng_lsi = matutils.corpus2dense(lsi_corpus, num_terms=300).transpose()\n"
   ]
  },
  {
   "cell_type": "code",
   "execution_count": 25,
   "metadata": {},
   "outputs": [],
   "source": [
    "kmeans = KMeans(n_clusters=5)\n",
    "clusters = kmeans.fit_predict(ng_lsi)\n"
   ]
  },
  {
   "cell_type": "code",
   "execution_count": 26,
   "metadata": {},
   "outputs": [
    {
     "data": {
      "text/plain": [
       "1    35373\n",
       "2     6953\n",
       "4     6022\n",
       "0     2488\n",
       "3     1031\n",
       "dtype: int64"
      ]
     },
     "execution_count": 26,
     "metadata": {},
     "output_type": "execute_result"
    }
   ],
   "source": [
    "pd.value_counts(pd.Series(clusters))"
   ]
  },
  {
   "cell_type": "code",
   "execution_count": 27,
   "metadata": {},
   "outputs": [
    {
     "name": "stdout",
     "output_type": "stream",
     "text": [
      "(1, '#IslamKills Are you trying to say that there were no terrorist attacks in Europe before refugees were let in?')\n",
      "(4, '@HillaryClinton: @realDonaldTrump should’ve apologized more, attacked less ')\n",
      "(1, '@ModicaGiunta me, too!')\n",
      "(1, 'One of the ways to remind that #BlackLivesMatter #BlackPressDay')\n",
      "(1, 'Dave Chappelle: \"blacklivesmatter\" is the worst slogan I\\'ve ever heard! How about \"enough is enough\"? VotingTrump! ')\n",
      "(1, '#My2017BiggestHope to reach this level of pettiness ')\n",
      "(1, 'The war is here! \\nThis gentleman made more sense in 30 sec than #Obama for all time of his presidency.. ')\n",
      "(2, \"Obama on @realDonaldTrump winning: 'Anything's possible'  #politics\")\n",
      "(1, 'it’s impossible! #TexasJihad')\n",
      "(1, 'Bewaffnete attackieren Bus mit koptischen Christen #Islamisten #ISIS \\n')\n",
      "(1, 'The bright example of our failing education ')\n",
      "(1, '@sendavidperdue How are they gonna protect us if they just let a bunch of terrorist walk the cities of our city? #StopIslam #IslamKills')\n",
      "(1, 'FC Barcelonas youth academy! La Masia doin work! Double tap for these little guys! ')\n",
      "(1, \"When I remember it's #Friyay \")\n",
      "(1, 'tired of kids how to get rid  #SearchesGoogleIsAshamedOf')\n",
      "(1, '#God can be realized through all paths. All #religions...')\n",
      "(0, ' hah, not a scooter at last)))')\n",
      "(1, 'One of the best live performances ever ')\n",
      "(1, 'Kanzlerin, die von dem Volk gewählt wurde! #Merkel #Deutschland ')\n",
      "(2, 'Deceitful Media caught on act when trying to drive the \"@realDonaldTrump is racist\" rhetoric. \\n\\n#BlacksForTrump ')\n",
      "(1, \"What the Hell, this isn't English. \")\n",
      "(4, '@HillaryClinton’s VP Choice: More Harm Than Good ')\n",
      "(4, '@HillaryClinton vows to fight, lead for all as she accepts ...  |  ')\n",
      "(1, 'I ALWAYS do like this)))) ')\n",
      "(1, 'Time to get your unemployed millennial asses off the couch and get a job!  \\n#MakeAmericaGreatAgain ')\n"
     ]
    }
   ],
   "source": [
    "lower = 0\n",
    "upper = 25\n",
    "zipped_clusters = list(zip(clusters[lower:upper], clustering_text.values[lower:upper]))\n",
    "for cluster in zipped_clusters:\n",
    "    print(cluster)"
   ]
  },
  {
   "cell_type": "code",
   "execution_count": 28,
   "metadata": {},
   "outputs": [
    {
     "ename": "ValueError",
     "evalue": "The condensed distance matrix must contain only finite values.",
     "output_type": "error",
     "traceback": [
      "\u001b[0;31m---------------------------------------------------------------------------\u001b[0m",
      "\u001b[0;31mValueError\u001b[0m                                Traceback (most recent call last)",
      "\u001b[0;32m<ipython-input-28-b43983888465>\u001b[0m in \u001b[0;36m<module>\u001b[0;34m()\u001b[0m\n\u001b[1;32m      1\u001b[0m \u001b[0magglo_model\u001b[0m \u001b[0;34m=\u001b[0m \u001b[0mAgglomerativeClustering\u001b[0m\u001b[0;34m(\u001b[0m\u001b[0maffinity\u001b[0m\u001b[0;34m=\u001b[0m\u001b[0;34m'cosine'\u001b[0m\u001b[0;34m,\u001b[0m \u001b[0mlinkage\u001b[0m\u001b[0;34m=\u001b[0m\u001b[0;34m'average'\u001b[0m\u001b[0;34m)\u001b[0m\u001b[0;34m\u001b[0m\u001b[0m\n\u001b[0;32m----> 2\u001b[0;31m \u001b[0ma_clusters\u001b[0m \u001b[0;34m=\u001b[0m \u001b[0magglo_model\u001b[0m\u001b[0;34m.\u001b[0m\u001b[0mfit_predict\u001b[0m\u001b[0;34m(\u001b[0m\u001b[0mng_lsi\u001b[0m\u001b[0;34m)\u001b[0m\u001b[0;34m\u001b[0m\u001b[0m\n\u001b[0m\u001b[1;32m      3\u001b[0m \u001b[0;34m\u001b[0m\u001b[0m\n\u001b[1;32m      4\u001b[0m \u001b[0ma_clusters\u001b[0m\u001b[0;34m[\u001b[0m\u001b[0;36m0\u001b[0m\u001b[0;34m:\u001b[0m\u001b[0;36m5\u001b[0m\u001b[0;34m]\u001b[0m\u001b[0;34m\u001b[0m\u001b[0m\n",
      "\u001b[0;32m~/.local/lib/python3.5/site-packages/sklearn/base.py\u001b[0m in \u001b[0;36mfit_predict\u001b[0;34m(self, X, y)\u001b[0m\n\u001b[1;32m    408\u001b[0m         \u001b[0;31m# non-optimized default implementation; override when a better\u001b[0m\u001b[0;34m\u001b[0m\u001b[0;34m\u001b[0m\u001b[0m\n\u001b[1;32m    409\u001b[0m         \u001b[0;31m# method is possible for a given clustering algorithm\u001b[0m\u001b[0;34m\u001b[0m\u001b[0;34m\u001b[0m\u001b[0m\n\u001b[0;32m--> 410\u001b[0;31m         \u001b[0mself\u001b[0m\u001b[0;34m.\u001b[0m\u001b[0mfit\u001b[0m\u001b[0;34m(\u001b[0m\u001b[0mX\u001b[0m\u001b[0;34m)\u001b[0m\u001b[0;34m\u001b[0m\u001b[0m\n\u001b[0m\u001b[1;32m    411\u001b[0m         \u001b[0;32mreturn\u001b[0m \u001b[0mself\u001b[0m\u001b[0;34m.\u001b[0m\u001b[0mlabels_\u001b[0m\u001b[0;34m\u001b[0m\u001b[0m\n\u001b[1;32m    412\u001b[0m \u001b[0;34m\u001b[0m\u001b[0m\n",
      "\u001b[0;32m~/.local/lib/python3.5/site-packages/sklearn/cluster/hierarchical.py\u001b[0m in \u001b[0;36mfit\u001b[0;34m(self, X, y)\u001b[0m\n\u001b[1;32m    740\u001b[0m             memory.cache(tree_builder)(X, connectivity,\n\u001b[1;32m    741\u001b[0m                                        \u001b[0mn_clusters\u001b[0m\u001b[0;34m=\u001b[0m\u001b[0mn_clusters\u001b[0m\u001b[0;34m,\u001b[0m\u001b[0;34m\u001b[0m\u001b[0m\n\u001b[0;32m--> 742\u001b[0;31m                                        **kwargs)\n\u001b[0m\u001b[1;32m    743\u001b[0m         \u001b[0;31m# Cut the tree\u001b[0m\u001b[0;34m\u001b[0m\u001b[0;34m\u001b[0m\u001b[0m\n\u001b[1;32m    744\u001b[0m         \u001b[0;32mif\u001b[0m \u001b[0mcompute_full_tree\u001b[0m\u001b[0;34m:\u001b[0m\u001b[0;34m\u001b[0m\u001b[0m\n",
      "\u001b[0;32m~/.local/lib/python3.5/site-packages/sklearn/externals/joblib/memory.py\u001b[0m in \u001b[0;36m__call__\u001b[0;34m(self, *args, **kwargs)\u001b[0m\n\u001b[1;32m    360\u001b[0m \u001b[0;34m\u001b[0m\u001b[0m\n\u001b[1;32m    361\u001b[0m     \u001b[0;32mdef\u001b[0m \u001b[0m__call__\u001b[0m\u001b[0;34m(\u001b[0m\u001b[0mself\u001b[0m\u001b[0;34m,\u001b[0m \u001b[0;34m*\u001b[0m\u001b[0margs\u001b[0m\u001b[0;34m,\u001b[0m \u001b[0;34m**\u001b[0m\u001b[0mkwargs\u001b[0m\u001b[0;34m)\u001b[0m\u001b[0;34m:\u001b[0m\u001b[0;34m\u001b[0m\u001b[0m\n\u001b[0;32m--> 362\u001b[0;31m         \u001b[0;32mreturn\u001b[0m \u001b[0mself\u001b[0m\u001b[0;34m.\u001b[0m\u001b[0mfunc\u001b[0m\u001b[0;34m(\u001b[0m\u001b[0;34m*\u001b[0m\u001b[0margs\u001b[0m\u001b[0;34m,\u001b[0m \u001b[0;34m**\u001b[0m\u001b[0mkwargs\u001b[0m\u001b[0;34m)\u001b[0m\u001b[0;34m\u001b[0m\u001b[0m\n\u001b[0m\u001b[1;32m    363\u001b[0m \u001b[0;34m\u001b[0m\u001b[0m\n\u001b[1;32m    364\u001b[0m     \u001b[0;32mdef\u001b[0m \u001b[0mcall_and_shelve\u001b[0m\u001b[0;34m(\u001b[0m\u001b[0mself\u001b[0m\u001b[0;34m,\u001b[0m \u001b[0;34m*\u001b[0m\u001b[0margs\u001b[0m\u001b[0;34m,\u001b[0m \u001b[0;34m**\u001b[0m\u001b[0mkwargs\u001b[0m\u001b[0;34m)\u001b[0m\u001b[0;34m:\u001b[0m\u001b[0;34m\u001b[0m\u001b[0m\n",
      "\u001b[0;32m~/.local/lib/python3.5/site-packages/sklearn/cluster/hierarchical.py\u001b[0m in \u001b[0;36m_average_linkage\u001b[0;34m(*args, **kwargs)\u001b[0m\n\u001b[1;32m    530\u001b[0m \u001b[0;32mdef\u001b[0m \u001b[0m_average_linkage\u001b[0m\u001b[0;34m(\u001b[0m\u001b[0;34m*\u001b[0m\u001b[0margs\u001b[0m\u001b[0;34m,\u001b[0m \u001b[0;34m**\u001b[0m\u001b[0mkwargs\u001b[0m\u001b[0;34m)\u001b[0m\u001b[0;34m:\u001b[0m\u001b[0;34m\u001b[0m\u001b[0m\n\u001b[1;32m    531\u001b[0m     \u001b[0mkwargs\u001b[0m\u001b[0;34m[\u001b[0m\u001b[0;34m'linkage'\u001b[0m\u001b[0;34m]\u001b[0m \u001b[0;34m=\u001b[0m \u001b[0;34m'average'\u001b[0m\u001b[0;34m\u001b[0m\u001b[0m\n\u001b[0;32m--> 532\u001b[0;31m     \u001b[0;32mreturn\u001b[0m \u001b[0mlinkage_tree\u001b[0m\u001b[0;34m(\u001b[0m\u001b[0;34m*\u001b[0m\u001b[0margs\u001b[0m\u001b[0;34m,\u001b[0m \u001b[0;34m**\u001b[0m\u001b[0mkwargs\u001b[0m\u001b[0;34m)\u001b[0m\u001b[0;34m\u001b[0m\u001b[0m\n\u001b[0m\u001b[1;32m    533\u001b[0m \u001b[0;34m\u001b[0m\u001b[0m\n\u001b[1;32m    534\u001b[0m \u001b[0;34m\u001b[0m\u001b[0m\n",
      "\u001b[0;32m~/.local/lib/python3.5/site-packages/sklearn/cluster/hierarchical.py\u001b[0m in \u001b[0;36mlinkage_tree\u001b[0;34m(X, connectivity, n_components, n_clusters, linkage, affinity, return_distance)\u001b[0m\n\u001b[1;32m    415\u001b[0m             \u001b[0mi\u001b[0m\u001b[0;34m,\u001b[0m \u001b[0mj\u001b[0m \u001b[0;34m=\u001b[0m \u001b[0mnp\u001b[0m\u001b[0;34m.\u001b[0m\u001b[0mtriu_indices\u001b[0m\u001b[0;34m(\u001b[0m\u001b[0mX\u001b[0m\u001b[0;34m.\u001b[0m\u001b[0mshape\u001b[0m\u001b[0;34m[\u001b[0m\u001b[0;36m0\u001b[0m\u001b[0;34m]\u001b[0m\u001b[0;34m,\u001b[0m \u001b[0mk\u001b[0m\u001b[0;34m=\u001b[0m\u001b[0;36m1\u001b[0m\u001b[0;34m)\u001b[0m\u001b[0;34m\u001b[0m\u001b[0m\n\u001b[1;32m    416\u001b[0m             \u001b[0mX\u001b[0m \u001b[0;34m=\u001b[0m \u001b[0mX\u001b[0m\u001b[0;34m[\u001b[0m\u001b[0mi\u001b[0m\u001b[0;34m,\u001b[0m \u001b[0mj\u001b[0m\u001b[0;34m]\u001b[0m\u001b[0;34m\u001b[0m\u001b[0m\n\u001b[0;32m--> 417\u001b[0;31m         \u001b[0mout\u001b[0m \u001b[0;34m=\u001b[0m \u001b[0mhierarchy\u001b[0m\u001b[0;34m.\u001b[0m\u001b[0mlinkage\u001b[0m\u001b[0;34m(\u001b[0m\u001b[0mX\u001b[0m\u001b[0;34m,\u001b[0m \u001b[0mmethod\u001b[0m\u001b[0;34m=\u001b[0m\u001b[0mlinkage\u001b[0m\u001b[0;34m,\u001b[0m \u001b[0mmetric\u001b[0m\u001b[0;34m=\u001b[0m\u001b[0maffinity\u001b[0m\u001b[0;34m)\u001b[0m\u001b[0;34m\u001b[0m\u001b[0m\n\u001b[0m\u001b[1;32m    418\u001b[0m         \u001b[0mchildren_\u001b[0m \u001b[0;34m=\u001b[0m \u001b[0mout\u001b[0m\u001b[0;34m[\u001b[0m\u001b[0;34m:\u001b[0m\u001b[0;34m,\u001b[0m \u001b[0;34m:\u001b[0m\u001b[0;36m2\u001b[0m\u001b[0;34m]\u001b[0m\u001b[0;34m.\u001b[0m\u001b[0mastype\u001b[0m\u001b[0;34m(\u001b[0m\u001b[0mnp\u001b[0m\u001b[0;34m.\u001b[0m\u001b[0mint\u001b[0m\u001b[0;34m)\u001b[0m\u001b[0;34m\u001b[0m\u001b[0m\n\u001b[1;32m    419\u001b[0m \u001b[0;34m\u001b[0m\u001b[0m\n",
      "\u001b[0;32m~/.local/lib/python3.5/site-packages/scipy/cluster/hierarchy.py\u001b[0m in \u001b[0;36mlinkage\u001b[0;34m(y, method, metric, optimal_ordering)\u001b[0m\n\u001b[1;32m    711\u001b[0m \u001b[0;34m\u001b[0m\u001b[0m\n\u001b[1;32m    712\u001b[0m     \u001b[0;32mif\u001b[0m \u001b[0;32mnot\u001b[0m \u001b[0mnp\u001b[0m\u001b[0;34m.\u001b[0m\u001b[0mall\u001b[0m\u001b[0;34m(\u001b[0m\u001b[0mnp\u001b[0m\u001b[0;34m.\u001b[0m\u001b[0misfinite\u001b[0m\u001b[0;34m(\u001b[0m\u001b[0my\u001b[0m\u001b[0;34m)\u001b[0m\u001b[0;34m)\u001b[0m\u001b[0;34m:\u001b[0m\u001b[0;34m\u001b[0m\u001b[0m\n\u001b[0;32m--> 713\u001b[0;31m         raise ValueError(\"The condensed distance matrix must contain only \"\n\u001b[0m\u001b[1;32m    714\u001b[0m                          \"finite values.\")\n\u001b[1;32m    715\u001b[0m \u001b[0;34m\u001b[0m\u001b[0m\n",
      "\u001b[0;31mValueError\u001b[0m: The condensed distance matrix must contain only finite values."
     ]
    }
   ],
   "source": [
    "agglo_model = AgglomerativeClustering(affinity='cosine', linkage='average')\n",
    "a_clusters = agglo_model.fit_predict(ng_lsi)\n",
    "\n",
    "a_clusters[0:5]"
   ]
  },
  {
   "cell_type": "code",
   "execution_count": null,
   "metadata": {},
   "outputs": [],
   "source": []
  }
 ],
 "metadata": {
  "kernelspec": {
   "display_name": "Python 3",
   "language": "python",
   "name": "python3"
  },
  "language_info": {
   "codemirror_mode": {
    "name": "ipython",
    "version": 3
   },
   "file_extension": ".py",
   "mimetype": "text/x-python",
   "name": "python",
   "nbconvert_exporter": "python",
   "pygments_lexer": "ipython3",
   "version": "3.5.2"
  }
 },
 "nbformat": 4,
 "nbformat_minor": 2
}
