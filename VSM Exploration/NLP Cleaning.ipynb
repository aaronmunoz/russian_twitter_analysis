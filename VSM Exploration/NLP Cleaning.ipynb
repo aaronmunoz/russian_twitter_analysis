{
 "cells": [
  {
   "cell_type": "code",
   "execution_count": 2,
   "metadata": {},
   "outputs": [],
   "source": [
    "import numpy as np\n",
    "import pandas as pd\n",
    "import re\n",
    "from sklearn.feature_extraction.text import TfidfVectorizer\n",
    "\n",
    "import importlib\n",
    "import russia_df_utils\n",
    "importlib.reload(russia_df_utils)\n",
    "from russia_df_utils import get_uncategorized_df_rows, save_cleaned_df\n",
    "\n",
    "import logging\n",
    "logging.basicConfig(format='%(asctime)s : %(levelname)s : %(message)s', level=logging.INFO)"
   ]
  },
  {
   "cell_type": "markdown",
   "metadata": {},
   "source": [
    "# De-duplicate Data #"
   ]
  },
  {
   "cell_type": "code",
   "execution_count": 3,
   "metadata": {},
   "outputs": [],
   "source": [
    "russia_df = get_uncategorized_df_rows()"
   ]
  },
  {
   "cell_type": "markdown",
   "metadata": {},
   "source": [
    "## Find the different forms of 'Trump' and replace with @realDonaldTrump  ##"
   ]
  },
  {
   "cell_type": "code",
   "execution_count": 62,
   "metadata": {},
   "outputs": [
    {
     "data": {
      "text/plain": [
       "(4545, 16)"
      ]
     },
     "execution_count": 62,
     "metadata": {},
     "output_type": "execute_result"
    }
   ],
   "source": [
    "russia_df[russia_df['processed_text'].str.contains('@realDonaldTrump')].shape"
   ]
  },
  {
   "cell_type": "code",
   "execution_count": 63,
   "metadata": {},
   "outputs": [
    {
     "data": {
      "text/plain": [
       "(8994, 16)"
      ]
     },
     "execution_count": 63,
     "metadata": {},
     "output_type": "execute_result"
    }
   ],
   "source": [
    "russia_df['processed_text'] = russia_df['processed_text'].str.replace('donald trump', '@realDonaldTrump', flags=re.IGNORECASE)\n",
    "\n",
    "russia_df[russia_df['processed_text'].str.contains('@realDonaldTrump')].shape"
   ]
  },
  {
   "cell_type": "code",
   "execution_count": 64,
   "metadata": {},
   "outputs": [
    {
     "data": {
      "text/plain": [
       "(33339, 16)"
      ]
     },
     "execution_count": 64,
     "metadata": {},
     "output_type": "execute_result"
    }
   ],
   "source": [
    "russia_df['processed_text'] = russia_df['processed_text'].str.replace('\\\\btrump\\\\b', '@realDonaldTrump', flags=re.IGNORECASE)\n",
    "\n",
    "russia_df[russia_df['processed_text'].str.contains('@realDonaldTrump')].shape"
   ]
  },
  {
   "cell_type": "code",
   "execution_count": 65,
   "metadata": {},
   "outputs": [
    {
     "data": {
      "text/plain": [
       "(33487, 16)"
      ]
     },
     "execution_count": 65,
     "metadata": {},
     "output_type": "execute_result"
    }
   ],
   "source": [
    "russia_df['processed_text'] = russia_df['processed_text'].str.replace('\\\\bdonald\\\\b', '@realDonaldTrump', flags=re.IGNORECASE)\n",
    "\n",
    "russia_df[russia_df['processed_text'].str.contains('@realDonaldTrump')].shape"
   ]
  },
  {
   "cell_type": "markdown",
   "metadata": {},
   "source": [
    "## Find the different forms of 'Hillary Clinton' and replace with @HillaryClinton  ##"
   ]
  },
  {
   "cell_type": "code",
   "execution_count": 66,
   "metadata": {},
   "outputs": [
    {
     "data": {
      "text/plain": [
       "(2338, 16)"
      ]
     },
     "execution_count": 66,
     "metadata": {},
     "output_type": "execute_result"
    }
   ],
   "source": [
    "russia_df[russia_df['processed_text'].str.contains('@HillaryClinton')].shape"
   ]
  },
  {
   "cell_type": "code",
   "execution_count": 67,
   "metadata": {},
   "outputs": [
    {
     "data": {
      "text/plain": [
       "(6630, 16)"
      ]
     },
     "execution_count": 67,
     "metadata": {},
     "output_type": "execute_result"
    }
   ],
   "source": [
    "russia_df['processed_text'] = russia_df['processed_text'].str.replace('Hillary Clinton', '@HillaryClinton', flags=re.IGNORECASE)\n",
    "\n",
    "russia_df[russia_df['processed_text'].str.contains('@HillaryClinton')].shape"
   ]
  },
  {
   "cell_type": "markdown",
   "metadata": {},
   "source": [
    "#### This may potentially classify Bill as Hillary, but I think that's ok ####"
   ]
  },
  {
   "cell_type": "code",
   "execution_count": 68,
   "metadata": {},
   "outputs": [
    {
     "data": {
      "text/plain": [
       "(14683, 16)"
      ]
     },
     "execution_count": 68,
     "metadata": {},
     "output_type": "execute_result"
    }
   ],
   "source": [
    "russia_df['processed_text'] = russia_df['processed_text'].str.replace('\\\\bClinton\\\\b', '@HillaryClinton', flags=re.IGNORECASE)\n",
    "\n",
    "russia_df[russia_df['processed_text'].str.contains('@HillaryClinton')].shape"
   ]
  },
  {
   "cell_type": "code",
   "execution_count": 69,
   "metadata": {},
   "outputs": [
    {
     "data": {
      "text/plain": [
       "(21205, 16)"
      ]
     },
     "execution_count": 69,
     "metadata": {},
     "output_type": "execute_result"
    }
   ],
   "source": [
    "russia_df['processed_text'] = russia_df['processed_text'].str.replace('\\\\bhillary\\\\b', '@HillaryClinton', flags=re.IGNORECASE)\n",
    "russia_df[russia_df['processed_text'].str.contains('@HillaryClinton')].shape"
   ]
  },
  {
   "cell_type": "markdown",
   "metadata": {},
   "source": [
    "# Condense 'Black Lives Matter' and 'All Lives Matter' #"
   ]
  },
  {
   "cell_type": "code",
   "execution_count": 70,
   "metadata": {},
   "outputs": [
    {
     "data": {
      "text/plain": [
       "(878, 16)"
      ]
     },
     "execution_count": 70,
     "metadata": {},
     "output_type": "execute_result"
    }
   ],
   "source": [
    "russia_df[russia_df['processed_text'].str.contains('blacklivesmatter', flags=re.IGNORECASE)].shape"
   ]
  },
  {
   "cell_type": "code",
   "execution_count": 71,
   "metadata": {},
   "outputs": [
    {
     "data": {
      "text/plain": [
       "(1027, 16)"
      ]
     },
     "execution_count": 71,
     "metadata": {},
     "output_type": "execute_result"
    }
   ],
   "source": [
    "russia_df['processed_text'] = russia_df['processed_text'].str.replace('black lives matter', 'blacklivesmatter', flags=re.IGNORECASE)\n",
    "russia_df[russia_df['processed_text'].str.contains('blacklivesmatter', flags=re.IGNORECASE)].shape"
   ]
  },
  {
   "cell_type": "code",
   "execution_count": 72,
   "metadata": {},
   "outputs": [
    {
     "data": {
      "text/plain": [
       "(43, 16)"
      ]
     },
     "execution_count": 72,
     "metadata": {},
     "output_type": "execute_result"
    }
   ],
   "source": [
    "russia_df[russia_df['processed_text'].str.contains('alllivesmatter', flags=re.IGNORECASE)].shape"
   ]
  },
  {
   "cell_type": "code",
   "execution_count": 73,
   "metadata": {},
   "outputs": [
    {
     "data": {
      "text/plain": [
       "(68, 16)"
      ]
     },
     "execution_count": 73,
     "metadata": {},
     "output_type": "execute_result"
    }
   ],
   "source": [
    "russia_df['processed_text'] = russia_df['processed_text'].str.replace('all lives matter', 'alllivesmatter', flags=re.IGNORECASE)\n",
    "russia_df[russia_df['processed_text'].str.contains('alllivesmatter', flags=re.IGNORECASE)].shape"
   ]
  },
  {
   "cell_type": "code",
   "execution_count": null,
   "metadata": {},
   "outputs": [],
   "source": []
  },
  {
   "cell_type": "code",
   "execution_count": 74,
   "metadata": {},
   "outputs": [],
   "source": [
    "save_cleaned_df(russia_df)"
   ]
  },
  {
   "cell_type": "code",
   "execution_count": 75,
   "metadata": {},
   "outputs": [],
   "source": [
    "\n",
    "#clustering_text = russia_df['processed_text']"
   ]
  },
  {
   "cell_type": "code",
   "execution_count": 76,
   "metadata": {},
   "outputs": [],
   "source": [
    "#tfidf = TfidfVectorizer(stop_words='english', ngram_range=(1,2), min_df=10)\n",
    "#vectorized_tweets = tfidf.fit_transform(clustering_text.values)\n",
    "\n",
    "#documents = pd.DataFrame(vectorized_tweets.todense(), \n",
    "#             columns=tfidf.get_feature_names()\n",
    "#            )"
   ]
  },
  {
   "cell_type": "code",
   "execution_count": 77,
   "metadata": {},
   "outputs": [],
   "source": [
    "#documents.sum().sort_values(ascending=False)"
   ]
  },
  {
   "cell_type": "code",
   "execution_count": null,
   "metadata": {},
   "outputs": [],
   "source": []
  }
 ],
 "metadata": {
  "kernelspec": {
   "display_name": "Python 3",
   "language": "python",
   "name": "python3"
  },
  "language_info": {
   "codemirror_mode": {
    "name": "ipython",
    "version": 3
   },
   "file_extension": ".py",
   "mimetype": "text/x-python",
   "name": "python",
   "nbconvert_exporter": "python",
   "pygments_lexer": "ipython3",
   "version": "3.5.2"
  }
 },
 "nbformat": 4,
 "nbformat_minor": 2
}
