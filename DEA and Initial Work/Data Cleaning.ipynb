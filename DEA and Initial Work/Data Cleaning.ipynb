{
 "cells": [
  {
   "cell_type": "code",
   "execution_count": 1,
   "metadata": {},
   "outputs": [],
   "source": [
    "import numpy as np\n",
    "import pandas as pd\n",
    "import re\n",
    "import uuid\n",
    "import requests\n",
    "\n",
    "import matplotlib.pyplot as plt\n",
    "import matplotlib as mpl\n",
    "\n",
    "import seaborn as sns\n",
    "sns.set()\n",
    "\n",
    "%matplotlib inline\n"
   ]
  },
  {
   "cell_type": "markdown",
   "metadata": {},
   "source": [
    "***\n",
    "# Initialize and perform base level cleaning #"
   ]
  },
  {
   "cell_type": "code",
   "execution_count": 87,
   "metadata": {},
   "outputs": [],
   "source": [
    "cleaned_csv_location = '../cleaned_tweets.csv'\n",
    "def save_cleaned_df(df):\n",
    "    df.to_csv(cleaned_csv_location)\n",
    "    \n",
    "def read_cleaned_df():    \n",
    "    return pd.read_csv(cleaned_csv_location, index_col='id')"
   ]
  },
  {
   "cell_type": "code",
   "execution_count": 88,
   "metadata": {},
   "outputs": [
    {
     "data": {
      "text/html": [
       "<div>\n",
       "<style scoped>\n",
       "    .dataframe tbody tr th:only-of-type {\n",
       "        vertical-align: middle;\n",
       "    }\n",
       "\n",
       "    .dataframe tbody tr th {\n",
       "        vertical-align: top;\n",
       "    }\n",
       "\n",
       "    .dataframe thead th {\n",
       "        text-align: right;\n",
       "    }\n",
       "</style>\n",
       "<table border=\"1\" class=\"dataframe\">\n",
       "  <thead>\n",
       "    <tr style=\"text-align: right;\">\n",
       "      <th></th>\n",
       "      <th>user_id</th>\n",
       "      <th>user_key</th>\n",
       "      <th>retweet_count</th>\n",
       "      <th>retweeted</th>\n",
       "      <th>favorite_count</th>\n",
       "      <th>text</th>\n",
       "      <th>tweet_id</th>\n",
       "      <th>source</th>\n",
       "      <th>expanded_urls</th>\n",
       "      <th>retweeted_status_id</th>\n",
       "      <th>in_reply_to_status_id</th>\n",
       "      <th>created_datetime</th>\n",
       "    </tr>\n",
       "    <tr>\n",
       "      <th>id</th>\n",
       "      <th></th>\n",
       "      <th></th>\n",
       "      <th></th>\n",
       "      <th></th>\n",
       "      <th></th>\n",
       "      <th></th>\n",
       "      <th></th>\n",
       "      <th></th>\n",
       "      <th></th>\n",
       "      <th></th>\n",
       "      <th></th>\n",
       "      <th></th>\n",
       "    </tr>\n",
       "  </thead>\n",
       "  <tbody>\n",
       "    <tr>\n",
       "      <th>4c40e3c1-3945-488f-a5a5-7c79ec15417d</th>\n",
       "      <td>2.541946e+09</td>\n",
       "      <td>mr_clampin</td>\n",
       "      <td>NaN</td>\n",
       "      <td>NaN</td>\n",
       "      <td>NaN</td>\n",
       "      <td>RT @Freddiemaize: I have a huge crush on @Robe...</td>\n",
       "      <td>809032410197204994</td>\n",
       "      <td>NaN</td>\n",
       "      <td>[]</td>\n",
       "      <td>NaN</td>\n",
       "      <td>NaN</td>\n",
       "      <td>2016-12-14 08:48:52</td>\n",
       "    </tr>\n",
       "    <tr>\n",
       "      <th>d9aa201c-e2ba-4636-8c02-03d0a514bafd</th>\n",
       "      <td>1.727482e+09</td>\n",
       "      <td>melvinsroberts</td>\n",
       "      <td>NaN</td>\n",
       "      <td>NaN</td>\n",
       "      <td>NaN</td>\n",
       "      <td>RT @OnPirateSat: #thanks @Nik_No_C @PunkSwapMe...</td>\n",
       "      <td>781120912502370304</td>\n",
       "      <td>NaN</td>\n",
       "      <td>[]</td>\n",
       "      <td>NaN</td>\n",
       "      <td>NaN</td>\n",
       "      <td>2016-09-28 08:18:32</td>\n",
       "    </tr>\n",
       "    <tr>\n",
       "      <th>0bb74709-396d-405e-b4ab-65691527ee0d</th>\n",
       "      <td>1.656024e+09</td>\n",
       "      <td>imissobama</td>\n",
       "      <td>0.0</td>\n",
       "      <td>False</td>\n",
       "      <td>0.0</td>\n",
       "      <td>RT @Toure: Trump will not be the last of the b...</td>\n",
       "      <td>790008286015815680</td>\n",
       "      <td>&lt;a href=\"http://twitter.com\" rel=\"nofollow\"&gt;Tw...</td>\n",
       "      <td>[]</td>\n",
       "      <td>7.900038e+17</td>\n",
       "      <td>NaN</td>\n",
       "      <td>2016-10-22 20:53:47</td>\n",
       "    </tr>\n",
       "    <tr>\n",
       "      <th>7e276adf-23dd-4ead-9122-9b9b37f5f3ba</th>\n",
       "      <td>1.623180e+09</td>\n",
       "      <td>jeffreykahunas</td>\n",
       "      <td>NaN</td>\n",
       "      <td>NaN</td>\n",
       "      <td>NaN</td>\n",
       "      <td>RT @greta: Powell? he is the one who told the ...</td>\n",
       "      <td>764145521955000320</td>\n",
       "      <td>NaN</td>\n",
       "      <td>[]</td>\n",
       "      <td>NaN</td>\n",
       "      <td>NaN</td>\n",
       "      <td>2016-08-12 12:04:24</td>\n",
       "    </tr>\n",
       "    <tr>\n",
       "      <th>d99a2b64-9b56-495f-ad57-c2ddab4fe2a6</th>\n",
       "      <td>2.532612e+09</td>\n",
       "      <td>kathiemrr</td>\n",
       "      <td>NaN</td>\n",
       "      <td>NaN</td>\n",
       "      <td>NaN</td>\n",
       "      <td>RT @AnnoGalactic: #FamousCreatures\\n\\nBull McC...</td>\n",
       "      <td>785413943225233408</td>\n",
       "      <td>NaN</td>\n",
       "      <td>[]</td>\n",
       "      <td>NaN</td>\n",
       "      <td>NaN</td>\n",
       "      <td>2016-10-10 04:37:31</td>\n",
       "    </tr>\n",
       "  </tbody>\n",
       "</table>\n",
       "</div>"
      ],
      "text/plain": [
       "                                           user_id        user_key  \\\n",
       "id                                                                   \n",
       "4c40e3c1-3945-488f-a5a5-7c79ec15417d  2.541946e+09      mr_clampin   \n",
       "d9aa201c-e2ba-4636-8c02-03d0a514bafd  1.727482e+09  melvinsroberts   \n",
       "0bb74709-396d-405e-b4ab-65691527ee0d  1.656024e+09      imissobama   \n",
       "7e276adf-23dd-4ead-9122-9b9b37f5f3ba  1.623180e+09  jeffreykahunas   \n",
       "d99a2b64-9b56-495f-ad57-c2ddab4fe2a6  2.532612e+09       kathiemrr   \n",
       "\n",
       "                                      retweet_count retweeted  favorite_count  \\\n",
       "id                                                                              \n",
       "4c40e3c1-3945-488f-a5a5-7c79ec15417d            NaN       NaN             NaN   \n",
       "d9aa201c-e2ba-4636-8c02-03d0a514bafd            NaN       NaN             NaN   \n",
       "0bb74709-396d-405e-b4ab-65691527ee0d            0.0     False             0.0   \n",
       "7e276adf-23dd-4ead-9122-9b9b37f5f3ba            NaN       NaN             NaN   \n",
       "d99a2b64-9b56-495f-ad57-c2ddab4fe2a6            NaN       NaN             NaN   \n",
       "\n",
       "                                                                                   text  \\\n",
       "id                                                                                        \n",
       "4c40e3c1-3945-488f-a5a5-7c79ec15417d  RT @Freddiemaize: I have a huge crush on @Robe...   \n",
       "d9aa201c-e2ba-4636-8c02-03d0a514bafd  RT @OnPirateSat: #thanks @Nik_No_C @PunkSwapMe...   \n",
       "0bb74709-396d-405e-b4ab-65691527ee0d  RT @Toure: Trump will not be the last of the b...   \n",
       "7e276adf-23dd-4ead-9122-9b9b37f5f3ba  RT @greta: Powell? he is the one who told the ...   \n",
       "d99a2b64-9b56-495f-ad57-c2ddab4fe2a6  RT @AnnoGalactic: #FamousCreatures\\n\\nBull McC...   \n",
       "\n",
       "                                                tweet_id  \\\n",
       "id                                                         \n",
       "4c40e3c1-3945-488f-a5a5-7c79ec15417d  809032410197204994   \n",
       "d9aa201c-e2ba-4636-8c02-03d0a514bafd  781120912502370304   \n",
       "0bb74709-396d-405e-b4ab-65691527ee0d  790008286015815680   \n",
       "7e276adf-23dd-4ead-9122-9b9b37f5f3ba  764145521955000320   \n",
       "d99a2b64-9b56-495f-ad57-c2ddab4fe2a6  785413943225233408   \n",
       "\n",
       "                                                                                 source  \\\n",
       "id                                                                                        \n",
       "4c40e3c1-3945-488f-a5a5-7c79ec15417d                                                NaN   \n",
       "d9aa201c-e2ba-4636-8c02-03d0a514bafd                                                NaN   \n",
       "0bb74709-396d-405e-b4ab-65691527ee0d  <a href=\"http://twitter.com\" rel=\"nofollow\">Tw...   \n",
       "7e276adf-23dd-4ead-9122-9b9b37f5f3ba                                                NaN   \n",
       "d99a2b64-9b56-495f-ad57-c2ddab4fe2a6                                                NaN   \n",
       "\n",
       "                                     expanded_urls  retweeted_status_id  \\\n",
       "id                                                                        \n",
       "4c40e3c1-3945-488f-a5a5-7c79ec15417d            []                  NaN   \n",
       "d9aa201c-e2ba-4636-8c02-03d0a514bafd            []                  NaN   \n",
       "0bb74709-396d-405e-b4ab-65691527ee0d            []         7.900038e+17   \n",
       "7e276adf-23dd-4ead-9122-9b9b37f5f3ba            []                  NaN   \n",
       "d99a2b64-9b56-495f-ad57-c2ddab4fe2a6            []                  NaN   \n",
       "\n",
       "                                      in_reply_to_status_id  \\\n",
       "id                                                            \n",
       "4c40e3c1-3945-488f-a5a5-7c79ec15417d                    NaN   \n",
       "d9aa201c-e2ba-4636-8c02-03d0a514bafd                    NaN   \n",
       "0bb74709-396d-405e-b4ab-65691527ee0d                    NaN   \n",
       "7e276adf-23dd-4ead-9122-9b9b37f5f3ba                    NaN   \n",
       "d99a2b64-9b56-495f-ad57-c2ddab4fe2a6                    NaN   \n",
       "\n",
       "                                        created_datetime  \n",
       "id                                                        \n",
       "4c40e3c1-3945-488f-a5a5-7c79ec15417d 2016-12-14 08:48:52  \n",
       "d9aa201c-e2ba-4636-8c02-03d0a514bafd 2016-09-28 08:18:32  \n",
       "0bb74709-396d-405e-b4ab-65691527ee0d 2016-10-22 20:53:47  \n",
       "7e276adf-23dd-4ead-9122-9b9b37f5f3ba 2016-08-12 12:04:24  \n",
       "d99a2b64-9b56-495f-ad57-c2ddab4fe2a6 2016-10-10 04:37:31  "
      ]
     },
     "execution_count": 88,
     "metadata": {},
     "output_type": "execute_result"
    }
   ],
   "source": [
    "#tweet_id needs to be an object because pandas tries to convert it to scientific notation\n",
    "russia_df = pd.read_csv('../tweets.csv', dtype={'tweet_id': np.object})\n",
    "\n",
    "russia_df['created_datetime'] = pd.to_datetime(russia_df['created_str'])\n",
    "# converts from UTC to EST\n",
    "russia_df['created_datetime'] = russia_df['created_datetime'] - pd.Timedelta(hours=5)\n",
    "# Make the created_datetime the index\n",
    "#russia_df.set_index('created_datetime', inplace=True)\n",
    "\n",
    "# Delete columns we wont use\n",
    "del russia_df['created_str']\n",
    "del russia_df['created_at']\n",
    "del russia_df['posted']\n",
    "# I parse these out myself later in this notebook\n",
    "del russia_df['hashtags']\n",
    "del russia_df['mentions']\n",
    "\n",
    "# There are 21 null text tweets. Delete for now, but amy come back and look later\n",
    "russia_df = russia_df[~russia_df['text'].isnull()]\n",
    "\n",
    "russia_df['id'] = [uuid.uuid4() for _ in range(0,russia_df.shape[0])]\n",
    "russia_df.set_index('id',inplace=True)\n",
    "save_cleaned_df(russia_df)\n",
    "\n",
    "russia_df.sample(5)\n"
   ]
  },
  {
   "cell_type": "markdown",
   "metadata": {},
   "source": [
    "***\n",
    "# Extract hashtags #"
   ]
  },
  {
   "cell_type": "code",
   "execution_count": 89,
   "metadata": {},
   "outputs": [
    {
     "name": "stdout",
     "output_type": "stream",
     "text": [
      "100651\n"
     ]
    },
    {
     "data": {
      "text/html": [
       "<div>\n",
       "<style scoped>\n",
       "    .dataframe tbody tr th:only-of-type {\n",
       "        vertical-align: middle;\n",
       "    }\n",
       "\n",
       "    .dataframe tbody tr th {\n",
       "        vertical-align: top;\n",
       "    }\n",
       "\n",
       "    .dataframe thead th {\n",
       "        text-align: right;\n",
       "    }\n",
       "</style>\n",
       "<table border=\"1\" class=\"dataframe\">\n",
       "  <thead>\n",
       "    <tr style=\"text-align: right;\">\n",
       "      <th></th>\n",
       "      <th>user_id</th>\n",
       "      <th>user_key</th>\n",
       "      <th>retweet_count</th>\n",
       "      <th>retweeted</th>\n",
       "      <th>favorite_count</th>\n",
       "      <th>text</th>\n",
       "      <th>tweet_id</th>\n",
       "      <th>source</th>\n",
       "      <th>expanded_urls</th>\n",
       "      <th>retweeted_status_id</th>\n",
       "      <th>in_reply_to_status_id</th>\n",
       "      <th>created_datetime</th>\n",
       "    </tr>\n",
       "    <tr>\n",
       "      <th>id</th>\n",
       "      <th></th>\n",
       "      <th></th>\n",
       "      <th></th>\n",
       "      <th></th>\n",
       "      <th></th>\n",
       "      <th></th>\n",
       "      <th></th>\n",
       "      <th></th>\n",
       "      <th></th>\n",
       "      <th></th>\n",
       "      <th></th>\n",
       "      <th></th>\n",
       "    </tr>\n",
       "  </thead>\n",
       "  <tbody>\n",
       "    <tr>\n",
       "      <th>a044f436-1fe6-44a0-bdf7-8b07f59f5545</th>\n",
       "      <td>1.658203e+09</td>\n",
       "      <td>laurabaeley</td>\n",
       "      <td>NaN</td>\n",
       "      <td>NaN</td>\n",
       "      <td>NaN</td>\n",
       "      <td>We must protect ourselves by whatever means ne...</td>\n",
       "      <td>672819221664018432</td>\n",
       "      <td>NaN</td>\n",
       "      <td>[]</td>\n",
       "      <td>NaN</td>\n",
       "      <td>NaN</td>\n",
       "      <td>2015-12-04 11:46:17</td>\n",
       "    </tr>\n",
       "    <tr>\n",
       "      <th>2bd1474a-ebef-4985-b402-283566de0f20</th>\n",
       "      <td>1.623180e+09</td>\n",
       "      <td>jeffreykahunas</td>\n",
       "      <td>NaN</td>\n",
       "      <td>NaN</td>\n",
       "      <td>NaN</td>\n",
       "      <td>Complicated - Complicated - Avril Lavigne http...</td>\n",
       "      <td>737557603455139844</td>\n",
       "      <td>NaN</td>\n",
       "      <td>[]</td>\n",
       "      <td>NaN</td>\n",
       "      <td>NaN</td>\n",
       "      <td>2016-05-31 03:13:30</td>\n",
       "    </tr>\n",
       "  </tbody>\n",
       "</table>\n",
       "</div>"
      ],
      "text/plain": [
       "                                           user_id        user_key  \\\n",
       "id                                                                   \n",
       "a044f436-1fe6-44a0-bdf7-8b07f59f5545  1.658203e+09     laurabaeley   \n",
       "2bd1474a-ebef-4985-b402-283566de0f20  1.623180e+09  jeffreykahunas   \n",
       "\n",
       "                                      retweet_count retweeted  favorite_count  \\\n",
       "id                                                                              \n",
       "a044f436-1fe6-44a0-bdf7-8b07f59f5545            NaN       NaN             NaN   \n",
       "2bd1474a-ebef-4985-b402-283566de0f20            NaN       NaN             NaN   \n",
       "\n",
       "                                                                                   text  \\\n",
       "id                                                                                        \n",
       "a044f436-1fe6-44a0-bdf7-8b07f59f5545  We must protect ourselves by whatever means ne...   \n",
       "2bd1474a-ebef-4985-b402-283566de0f20  Complicated - Complicated - Avril Lavigne http...   \n",
       "\n",
       "                                                tweet_id source expanded_urls  \\\n",
       "id                                                                              \n",
       "a044f436-1fe6-44a0-bdf7-8b07f59f5545  672819221664018432    NaN            []   \n",
       "2bd1474a-ebef-4985-b402-283566de0f20  737557603455139844    NaN            []   \n",
       "\n",
       "                                      retweeted_status_id  \\\n",
       "id                                                          \n",
       "a044f436-1fe6-44a0-bdf7-8b07f59f5545                  NaN   \n",
       "2bd1474a-ebef-4985-b402-283566de0f20                  NaN   \n",
       "\n",
       "                                      in_reply_to_status_id  \\\n",
       "id                                                            \n",
       "a044f436-1fe6-44a0-bdf7-8b07f59f5545                    NaN   \n",
       "2bd1474a-ebef-4985-b402-283566de0f20                    NaN   \n",
       "\n",
       "                                        created_datetime  \n",
       "id                                                        \n",
       "a044f436-1fe6-44a0-bdf7-8b07f59f5545 2015-12-04 11:46:17  \n",
       "2bd1474a-ebef-4985-b402-283566de0f20 2016-05-31 03:13:30  "
      ]
     },
     "execution_count": 89,
     "metadata": {},
     "output_type": "execute_result"
    }
   ],
   "source": [
    "tweets_with_hashtags = russia_df[russia_df['text'].str.contains('#\\w+')]\n",
    "\n",
    "print(tweets_with_hashtags.shape[0])\n",
    "tweets_with_hashtags.sample(2)"
   ]
  },
  {
   "cell_type": "code",
   "execution_count": 90,
   "metadata": {},
   "outputs": [],
   "source": [
    "hash_df = russia_df['text'].str.extractall('(#\\w+)')"
   ]
  },
  {
   "cell_type": "code",
   "execution_count": 91,
   "metadata": {},
   "outputs": [],
   "source": [
    "hash_df = hash_df.reset_index().set_index('id')\n",
    "del hash_df['match']\n",
    "\n",
    "hash_df.to_csv('../csvs/hashtags.csv')"
   ]
  },
  {
   "cell_type": "code",
   "execution_count": 92,
   "metadata": {},
   "outputs": [
    {
     "data": {
      "text/plain": [
       "#politics             3638\n",
       "#tcot                 2839\n",
       "#MAGA                 2538\n",
       "#PJNET                2147\n",
       "#news                 2046\n",
       "#Trump                1851\n",
       "#Merkelmussbleiben    1108\n",
       "#TrumpForPresident    1088\n",
       "#WakeUpAmerica        1061\n",
       "#NeverHillary          976\n",
       "Name: 0, dtype: int64"
      ]
     },
     "execution_count": 92,
     "metadata": {},
     "output_type": "execute_result"
    }
   ],
   "source": [
    "hash_df[0].value_counts().head(10)"
   ]
  },
  {
   "cell_type": "markdown",
   "metadata": {},
   "source": [
    "***\n",
    "# Extract mentions #"
   ]
  },
  {
   "cell_type": "code",
   "execution_count": 93,
   "metadata": {},
   "outputs": [],
   "source": [
    "mentions_df = russia_df['text'].str.extractall('(@\\w+)')\n",
    "mentions_df = mentions_df.reset_index().set_index('id')\n",
    "del mentions_df['match']\n",
    "\n",
    "mentions_df.to_csv('../csvs/mentions.csv')"
   ]
  },
  {
   "cell_type": "code",
   "execution_count": 94,
   "metadata": {},
   "outputs": [
    {
     "data": {
      "text/plain": [
       "@realDonaldTrump    4567\n",
       "@midnight           2584\n",
       "@HillaryClinton     2343\n",
       "@blicqer            2238\n",
       "@Conservatexian     1105\n",
       "@POTUS               909\n",
       "@FoxNews             744\n",
       "@YouTube             557\n",
       "@PrisonPlanet        554\n",
       "@nine_oh             538\n",
       "Name: 0, dtype: int64"
      ]
     },
     "execution_count": 94,
     "metadata": {},
     "output_type": "execute_result"
    }
   ],
   "source": [
    "mentions_df[0].value_counts().head(10)"
   ]
  },
  {
   "cell_type": "markdown",
   "metadata": {},
   "source": [
    "***\n",
    "# source #\n",
    "\n",
    "** 'source' is the client that performed the tweet (not consistently stamped) **"
   ]
  },
  {
   "cell_type": "code",
   "execution_count": 95,
   "metadata": {},
   "outputs": [
    {
     "data": {
      "text/plain": [
       "<a href=\"http://twitter.com\" rel=\"nofollow\">Twitter Web Client</a>                     42685\n",
       "<a href=\"http://twitterfeed.com\" rel=\"nofollow\">twitterfeed</a>                         6926\n",
       "<a href=\"https://about.twitter.com/products/tweetdeck\" rel=\"nofollow\">TweetDeck</a>     6409\n",
       "<a href=\"http://twibble.io\" rel=\"nofollow\">Twibble.io</a>                               1491\n",
       "<a href=\"http://dlvr.it\" rel=\"nofollow\">dlvr.it</a>                                      243\n",
       "Name: source, dtype: int64"
      ]
     },
     "execution_count": 95,
     "metadata": {},
     "output_type": "execute_result"
    }
   ],
   "source": [
    "russia_df.sort_values('source', ascending=False)['source'].value_counts()[:5]"
   ]
  },
  {
   "cell_type": "markdown",
   "metadata": {},
   "source": [
    "***\n",
    "# Extract URLs #\n",
    "This doesn't get all of the urls, but it gets most of them. Some are truncated (seems to be the case for RTs)"
   ]
  },
  {
   "cell_type": "code",
   "execution_count": 96,
   "metadata": {},
   "outputs": [],
   "source": [
    "url_regex = '(https?:\\/\\/t.co\\/[a-zA-Z0-9\\-]+)'"
   ]
  },
  {
   "cell_type": "code",
   "execution_count": 97,
   "metadata": {},
   "outputs": [],
   "source": [
    "\n",
    "url_df = russia_df['text'].str.extractall(url_regex)\n",
    "url_df = url_df.reset_index().set_index('id')\n",
    "del url_df['match']\n",
    "\n",
    "url_df.to_csv('../csvs/urls.csv')"
   ]
  },
  {
   "cell_type": "code",
   "execution_count": 98,
   "metadata": {},
   "outputs": [
    {
     "data": {
      "text/plain": [
       "https://t.co/eMX9JgTv3v    269\n",
       "https://t.co/aXQaNDGlF7    163\n",
       "https://t.co/iChLzWqg0Y    146\n",
       "https://t.co/rRZgBcCxBO    145\n",
       "https://t.co/XDBaPnHm6c    127\n",
       "https://t.co/telXZBWPRi    123\n",
       "https://t.co/rRZgBcU8tm    114\n",
       "https://t.co/yX3iMOFIOR    104\n",
       "https://t.co/1KPXto2HfW     99\n",
       "https://t.co/cdnQqWB38H     98\n",
       "Name: 0, dtype: int64"
      ]
     },
     "execution_count": 98,
     "metadata": {},
     "output_type": "execute_result"
    }
   ],
   "source": [
    "url_df[0].value_counts().head(10)"
   ]
  },
  {
   "cell_type": "code",
   "execution_count": 99,
   "metadata": {},
   "outputs": [],
   "source": [
    "#unwrapped_urls = url_df[0].apply(lambda x: requests.get(x).url)"
   ]
  },
  {
   "cell_type": "markdown",
   "metadata": {},
   "source": [
    "## Remove URLs from the text and insert the result in a special 'processed_text' column ##\n",
    "This column will be used for clustering"
   ]
  },
  {
   "cell_type": "code",
   "execution_count": 100,
   "metadata": {},
   "outputs": [],
   "source": [
    "russia_df['processed_text'] = russia_df['text'].str.replace(url_regex, '')\n",
    "\n",
    "save_cleaned_df(russia_df)"
   ]
  },
  {
   "cell_type": "markdown",
   "metadata": {},
   "source": [
    "# Let's classify some tweets that we know of#"
   ]
  },
  {
   "cell_type": "markdown",
   "metadata": {},
   "source": [
    "### @midnight ###"
   ]
  },
  {
   "cell_type": "code",
   "execution_count": 101,
   "metadata": {},
   "outputs": [],
   "source": [
    "russia_df['@midnight'] = russia_df['text'].str.contains('@midnight', flags=re.IGNORECASE)\n",
    "\n",
    "save_cleaned_df(russia_df)"
   ]
  },
  {
   "cell_type": "markdown",
   "metadata": {},
   "source": [
    "### #merkelmussbleiben ###"
   ]
  },
  {
   "cell_type": "code",
   "execution_count": 102,
   "metadata": {},
   "outputs": [],
   "source": [
    "russia_df['merkel'] = russia_df['text'].str.contains('#merkelmussbleiben', flags=re.IGNORECASE)\n",
    "save_cleaned_df(russia_df)"
   ]
  },
  {
   "cell_type": "markdown",
   "metadata": {},
   "source": [
    "## Retweets ##\n",
    "** Assign a is_rt column and strip the RT symbol from the tweets **"
   ]
  },
  {
   "cell_type": "code",
   "execution_count": 103,
   "metadata": {},
   "outputs": [],
   "source": [
    "russia_df['is_rt'] = russia_df['text'].str.contains('\\\\bRT\\\\b', na=False)\n",
    "\n",
    "russia_df['processed_text'] = russia_df['processed_text'].str.replace('\\\\bRT\\\\b', '')\n",
    "save_cleaned_df(russia_df)"
   ]
  },
  {
   "cell_type": "code",
   "execution_count": null,
   "metadata": {},
   "outputs": [],
   "source": []
  },
  {
   "cell_type": "markdown",
   "metadata": {},
   "source": [
    "## Misc Cleaning ##"
   ]
  },
  {
   "cell_type": "markdown",
   "metadata": {},
   "source": [
    "** Remove incomplete https urls **\n",
    "\n",
    "Many RTs are truncated at the end. When the end contains a link, it often causes the earlier 'URL' regex to miss stripping the text"
   ]
  },
  {
   "cell_type": "code",
   "execution_count": 104,
   "metadata": {},
   "outputs": [],
   "source": [
    "partial_url_regex = '\\\\bhttp\\S*$'\n",
    "russia_df['processed_text'] = russia_df['processed_text'].str.replace(partial_url_regex, '')\n",
    "save_cleaned_df(russia_df)"
   ]
  },
  {
   "cell_type": "markdown",
   "metadata": {},
   "source": [
    "** Strip ampersands that exist by themselves **"
   ]
  },
  {
   "cell_type": "code",
   "execution_count": 105,
   "metadata": {},
   "outputs": [],
   "source": [
    "russia_df['processed_text'] = russia_df['processed_text'].str.replace('&amp;', '&')\n",
    "russia_df['processed_text'] = russia_df['processed_text'].str.replace('&amp;', '&')\n",
    "save_cleaned_df(russia_df)"
   ]
  }
 ],
 "metadata": {
  "kernelspec": {
   "display_name": "Python 3",
   "language": "python",
   "name": "python3"
  },
  "language_info": {
   "codemirror_mode": {
    "name": "ipython",
    "version": 3
   },
   "file_extension": ".py",
   "mimetype": "text/x-python",
   "name": "python",
   "nbconvert_exporter": "python",
   "pygments_lexer": "ipython3",
   "version": "3.5.2"
  }
 },
 "nbformat": 4,
 "nbformat_minor": 2
}
