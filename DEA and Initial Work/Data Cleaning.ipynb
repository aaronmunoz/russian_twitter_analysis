{
 "cells": [
  {
   "cell_type": "code",
   "execution_count": 278,
   "metadata": {},
   "outputs": [],
   "source": [
    "import numpy as np\n",
    "import pandas as pd\n",
    "import re\n",
    "import uuid\n",
    "import requests\n",
    "\n",
    "import matplotlib.pyplot as plt\n",
    "import matplotlib as mpl\n",
    "\n",
    "import seaborn as sns\n",
    "sns.set()\n",
    "\n",
    "%matplotlib inline\n",
    "\n",
    "create_new_df = False"
   ]
  },
  {
   "cell_type": "markdown",
   "metadata": {},
   "source": [
    "***\n",
    "# Initialize and perform base level cleaning #"
   ]
  },
  {
   "cell_type": "code",
   "execution_count": 239,
   "metadata": {},
   "outputs": [],
   "source": [
    "cleaned_csv_location = '../cleaned_tweets.csv'\n",
    "def save_cleaned_df(df):\n",
    "    df.to_csv(cleaned_csv_location)\n",
    "    \n",
    "def read_cleaned_df():    \n",
    "    return pd.read_csv(cleaned_csv_location, index_col='id')"
   ]
  },
  {
   "cell_type": "code",
   "execution_count": 240,
   "metadata": {},
   "outputs": [],
   "source": [
    "if create_new_df:\n",
    "    #tweet_id needs to be an object because pandas tries to convert it to scientific notation\n",
    "    russia_df = pd.read_csv('../tweets.csv', dtype={'tweet_id': np.object})\n",
    "\n",
    "    russia_df['created_datetime'] = pd.to_datetime(russia_df['created_str'])\n",
    "    # converts from UTC to EST\n",
    "    russia_df['created_datetime'] = russia_df['created_datetime'] - pd.Timedelta(hours=5)\n",
    "    # Make the created_datetime the index\n",
    "    #russia_df.set_index('created_datetime', inplace=True)\n",
    "\n",
    "    # Delete columns we wont use\n",
    "    del russia_df['created_str']\n",
    "    del russia_df['created_at']\n",
    "    del russia_df['posted']\n",
    "    # I parse these out myself later in this notebook\n",
    "    del russia_df['hashtags']\n",
    "    del russia_df['mentions']\n",
    "\n",
    "    # There are 21 null text tweets. Delete for now, but amy come back and look later\n",
    "    russia_df = russia_df[~russia_df['text'].isnull()]\n",
    "\n",
    "    russia_df['id'] = [uuid.uuid4() for _ in range(0,russia_df.shape[0])]\n",
    "    russia_df.set_index('id',inplace=True)\n",
    "    save_cleaned_df(russia_df)\n",
    "\n",
    "    russia_df.sample(5)\n",
    "else:\n",
    "    russia_df = read_cleaned_df()"
   ]
  },
  {
   "cell_type": "markdown",
   "metadata": {},
   "source": [
    "***\n",
    "# Extract hashtags #"
   ]
  },
  {
   "cell_type": "code",
   "execution_count": 241,
   "metadata": {},
   "outputs": [
    {
     "name": "stdout",
     "output_type": "stream",
     "text": [
      "100651\n"
     ]
    },
    {
     "data": {
      "text/html": [
       "<div>\n",
       "<style>\n",
       "    .dataframe thead tr:only-child th {\n",
       "        text-align: right;\n",
       "    }\n",
       "\n",
       "    .dataframe thead th {\n",
       "        text-align: left;\n",
       "    }\n",
       "\n",
       "    .dataframe tbody tr th {\n",
       "        vertical-align: top;\n",
       "    }\n",
       "</style>\n",
       "<table border=\"1\" class=\"dataframe\">\n",
       "  <thead>\n",
       "    <tr style=\"text-align: right;\">\n",
       "      <th></th>\n",
       "      <th>user_id</th>\n",
       "      <th>user_key</th>\n",
       "      <th>retweet_count</th>\n",
       "      <th>retweeted</th>\n",
       "      <th>favorite_count</th>\n",
       "      <th>text</th>\n",
       "      <th>tweet_id</th>\n",
       "      <th>source</th>\n",
       "      <th>expanded_urls</th>\n",
       "      <th>retweeted_status_id</th>\n",
       "      <th>in_reply_to_status_id</th>\n",
       "      <th>created_datetime</th>\n",
       "    </tr>\n",
       "    <tr>\n",
       "      <th>id</th>\n",
       "      <th></th>\n",
       "      <th></th>\n",
       "      <th></th>\n",
       "      <th></th>\n",
       "      <th></th>\n",
       "      <th></th>\n",
       "      <th></th>\n",
       "      <th></th>\n",
       "      <th></th>\n",
       "      <th></th>\n",
       "      <th></th>\n",
       "      <th></th>\n",
       "    </tr>\n",
       "  </thead>\n",
       "  <tbody>\n",
       "    <tr>\n",
       "      <th>552b9190-e867-47a2-b1cc-2ccea5971d26</th>\n",
       "      <td>2.591848e+09</td>\n",
       "      <td>todaybostonma</td>\n",
       "      <td>0.0</td>\n",
       "      <td>False</td>\n",
       "      <td>0.0</td>\n",
       "      <td>The politics behind Obama's Christian Siriano ...</td>\n",
       "      <td>7.580370e+17</td>\n",
       "      <td>&lt;a href=\"http://twitterfeed.com\" rel=\"nofollow...</td>\n",
       "      <td>[]</td>\n",
       "      <td>NaN</td>\n",
       "      <td>NaN</td>\n",
       "      <td>2016-07-26 15:31:27</td>\n",
       "    </tr>\n",
       "    <tr>\n",
       "      <th>95967fff-2596-4a19-9ca6-84b44b311cc8</th>\n",
       "      <td>2.531160e+09</td>\n",
       "      <td>traceyhappymom</td>\n",
       "      <td>NaN</td>\n",
       "      <td>NaN</td>\n",
       "      <td>NaN</td>\n",
       "      <td>RT @Vapo_Rob: Democracy tainted forever.  #201...</td>\n",
       "      <td>7.956458e+17</td>\n",
       "      <td>NaN</td>\n",
       "      <td>[]</td>\n",
       "      <td>NaN</td>\n",
       "      <td>NaN</td>\n",
       "      <td>2016-11-07 10:15:24</td>\n",
       "    </tr>\n",
       "  </tbody>\n",
       "</table>\n",
       "</div>"
      ],
      "text/plain": [
       "                                           user_id        user_key  \\\n",
       "id                                                                   \n",
       "552b9190-e867-47a2-b1cc-2ccea5971d26  2.591848e+09   todaybostonma   \n",
       "95967fff-2596-4a19-9ca6-84b44b311cc8  2.531160e+09  traceyhappymom   \n",
       "\n",
       "                                      retweet_count retweeted  favorite_count  \\\n",
       "id                                                                              \n",
       "552b9190-e867-47a2-b1cc-2ccea5971d26            0.0     False             0.0   \n",
       "95967fff-2596-4a19-9ca6-84b44b311cc8            NaN       NaN             NaN   \n",
       "\n",
       "                                                                                   text  \\\n",
       "id                                                                                        \n",
       "552b9190-e867-47a2-b1cc-2ccea5971d26  The politics behind Obama's Christian Siriano ...   \n",
       "95967fff-2596-4a19-9ca6-84b44b311cc8  RT @Vapo_Rob: Democracy tainted forever.  #201...   \n",
       "\n",
       "                                          tweet_id  \\\n",
       "id                                                   \n",
       "552b9190-e867-47a2-b1cc-2ccea5971d26  7.580370e+17   \n",
       "95967fff-2596-4a19-9ca6-84b44b311cc8  7.956458e+17   \n",
       "\n",
       "                                                                                 source  \\\n",
       "id                                                                                        \n",
       "552b9190-e867-47a2-b1cc-2ccea5971d26  <a href=\"http://twitterfeed.com\" rel=\"nofollow...   \n",
       "95967fff-2596-4a19-9ca6-84b44b311cc8                                                NaN   \n",
       "\n",
       "                                     expanded_urls  retweeted_status_id  \\\n",
       "id                                                                        \n",
       "552b9190-e867-47a2-b1cc-2ccea5971d26            []                  NaN   \n",
       "95967fff-2596-4a19-9ca6-84b44b311cc8            []                  NaN   \n",
       "\n",
       "                                      in_reply_to_status_id  \\\n",
       "id                                                            \n",
       "552b9190-e867-47a2-b1cc-2ccea5971d26                    NaN   \n",
       "95967fff-2596-4a19-9ca6-84b44b311cc8                    NaN   \n",
       "\n",
       "                                         created_datetime  \n",
       "id                                                         \n",
       "552b9190-e867-47a2-b1cc-2ccea5971d26  2016-07-26 15:31:27  \n",
       "95967fff-2596-4a19-9ca6-84b44b311cc8  2016-11-07 10:15:24  "
      ]
     },
     "execution_count": 241,
     "metadata": {},
     "output_type": "execute_result"
    }
   ],
   "source": [
    "tweets_with_hashtags = russia_df[russia_df['text'].str.contains('#\\w+')]\n",
    "\n",
    "print(tweets_with_hashtags.shape[0])\n",
    "tweets_with_hashtags.sample(2)"
   ]
  },
  {
   "cell_type": "code",
   "execution_count": 207,
   "metadata": {},
   "outputs": [],
   "source": [
    "hash_df = russia_df['text'].str.extractall('(#\\w+)')"
   ]
  },
  {
   "cell_type": "code",
   "execution_count": 208,
   "metadata": {},
   "outputs": [],
   "source": [
    "hash_df = hash_df.reset_index().set_index('id')\n",
    "del hash_df['match']\n",
    "\n",
    "hash_df.to_csv('../csvs/hashtags.csv')"
   ]
  },
  {
   "cell_type": "code",
   "execution_count": 209,
   "metadata": {},
   "outputs": [
    {
     "data": {
      "text/plain": [
       "#politics             3638\n",
       "#tcot                 2839\n",
       "#MAGA                 2538\n",
       "#PJNET                2147\n",
       "#news                 2046\n",
       "#Trump                1851\n",
       "#Merkelmussbleiben    1108\n",
       "#TrumpForPresident    1088\n",
       "#WakeUpAmerica        1061\n",
       "#NeverHillary          976\n",
       "Name: 0, dtype: int64"
      ]
     },
     "execution_count": 209,
     "metadata": {},
     "output_type": "execute_result"
    }
   ],
   "source": [
    "hash_df[0].value_counts().head(10)"
   ]
  },
  {
   "cell_type": "markdown",
   "metadata": {},
   "source": [
    "***\n",
    "# Extract mentions #"
   ]
  },
  {
   "cell_type": "code",
   "execution_count": 210,
   "metadata": {},
   "outputs": [],
   "source": [
    "mentions_df = russia_df['text'].str.extractall('(@\\w+)')\n",
    "mentions_df = mentions_df.reset_index().set_index('id')\n",
    "del mentions_df['match']\n",
    "\n",
    "mentions_df.to_csv('../csvs/mentions.csv')"
   ]
  },
  {
   "cell_type": "code",
   "execution_count": 211,
   "metadata": {},
   "outputs": [
    {
     "data": {
      "text/plain": [
       "@realDonaldTrump    4567\n",
       "@midnight           2584\n",
       "@HillaryClinton     2343\n",
       "@blicqer            2238\n",
       "@Conservatexian     1105\n",
       "@POTUS               909\n",
       "@FoxNews             744\n",
       "@YouTube             557\n",
       "@PrisonPlanet        554\n",
       "@nine_oh             538\n",
       "Name: 0, dtype: int64"
      ]
     },
     "execution_count": 211,
     "metadata": {},
     "output_type": "execute_result"
    }
   ],
   "source": [
    "mentions_df[0].value_counts().head(10)"
   ]
  },
  {
   "cell_type": "markdown",
   "metadata": {},
   "source": [
    "***\n",
    "# source #\n",
    "\n",
    "** 'source' is the client that performed the tweet (not consistently stamped) **"
   ]
  },
  {
   "cell_type": "code",
   "execution_count": 233,
   "metadata": {},
   "outputs": [
    {
     "data": {
      "text/plain": [
       "<a href=\"http://twitter.com\" rel=\"nofollow\">Twitter Web Client</a>                     42685\n",
       "<a href=\"http://twitterfeed.com\" rel=\"nofollow\">twitterfeed</a>                         6926\n",
       "<a href=\"https://about.twitter.com/products/tweetdeck\" rel=\"nofollow\">TweetDeck</a>     6409\n",
       "<a href=\"http://twibble.io\" rel=\"nofollow\">Twibble.io</a>                               1491\n",
       "<a href=\"http://dlvr.it\" rel=\"nofollow\">dlvr.it</a>                                      243\n",
       "Name: source, dtype: int64"
      ]
     },
     "execution_count": 233,
     "metadata": {},
     "output_type": "execute_result"
    }
   ],
   "source": [
    "russia_df.sort_values('source', ascending=False)['source'].value_counts()[:5]"
   ]
  },
  {
   "cell_type": "markdown",
   "metadata": {},
   "source": [
    "***\n",
    "# Extract URLs #\n",
    "This doesn't get all of the urls, but it gets most of them. Some are truncated (seems to be the case for RTs)"
   ]
  },
  {
   "cell_type": "code",
   "execution_count": 269,
   "metadata": {},
   "outputs": [],
   "source": [
    "url_regex = '(https?:\\/\\/t.co\\/[a-zA-Z0-9\\-\\.]{8})'\n",
    "\n",
    "url_df = russia_df['text'].str.extractall(url_regex)\n",
    "url_df = url_df.reset_index().set_index('id')\n",
    "del url_df['match']\n",
    "\n",
    "url_df.to_csv('../csvs/urls.csv')"
   ]
  },
  {
   "cell_type": "code",
   "execution_count": 270,
   "metadata": {},
   "outputs": [
    {
     "data": {
      "text/plain": [
       "https://t.co/eMX9JgTv    269\n",
       "https://t.co/aXQaNDGl    163\n",
       "https://t.co/iChLzWqg    146\n",
       "https://t.co/rRZgBcCx    145\n",
       "https://t.co/XDBaPnHm    127\n",
       "https://t.co/telXZBWP    123\n",
       "https://t.co/rRZgBcU8    114\n",
       "https://t.co/yX3iMOFI    104\n",
       "https://t.co/1KPXto2H     99\n",
       "https://t.co/cdnQqWB3     98\n",
       "Name: 0, dtype: int64"
      ]
     },
     "execution_count": 270,
     "metadata": {},
     "output_type": "execute_result"
    }
   ],
   "source": [
    "url_df[0].value_counts().head(10)"
   ]
  },
  {
   "cell_type": "code",
   "execution_count": null,
   "metadata": {},
   "outputs": [],
   "source": [
    "unwrapped_urls = url_df[0].apply(lambda x: requests.get(x).url)"
   ]
  },
  {
   "cell_type": "code",
   "execution_count": 277,
   "metadata": {},
   "outputs": [
    {
     "ename": "AttributeError",
     "evalue": "module 'urllib' has no attribute 'urlopen'",
     "output_type": "error",
     "traceback": [
      "\u001b[0;31m---------------------------------------------------------------------------\u001b[0m",
      "\u001b[0;31mAttributeError\u001b[0m                            Traceback (most recent call last)",
      "\u001b[0;32m<ipython-input-277-091c49668479>\u001b[0m in \u001b[0;36m<module>\u001b[0;34m()\u001b[0m\n\u001b[0;32m----> 1\u001b[0;31m \u001b[0murllib\u001b[0m\u001b[0;34m.\u001b[0m\u001b[0murlopen\u001b[0m\u001b[0;34m(\u001b[0m\u001b[0;34m'https://t.co/aXQaNDGl'\u001b[0m\u001b[0;34m)\u001b[0m\u001b[0;34m.\u001b[0m\u001b[0murl\u001b[0m\u001b[0;34m\u001b[0m\u001b[0m\n\u001b[0m",
      "\u001b[0;31mAttributeError\u001b[0m: module 'urllib' has no attribute 'urlopen'"
     ]
    }
   ],
   "source": [
    "urllib.urlopen('https://t.co/aXQaNDGl').url"
   ]
  },
  {
   "cell_type": "code",
   "execution_count": null,
   "metadata": {},
   "outputs": [],
   "source": []
  }
 ],
 "metadata": {
  "kernelspec": {
   "display_name": "Python 3",
   "language": "python",
   "name": "python3"
  },
  "language_info": {
   "codemirror_mode": {
    "name": "ipython",
    "version": 3
   },
   "file_extension": ".py",
   "mimetype": "text/x-python",
   "name": "python",
   "nbconvert_exporter": "python",
   "pygments_lexer": "ipython3",
   "version": "3.6.4"
  }
 },
 "nbformat": 4,
 "nbformat_minor": 2
}
