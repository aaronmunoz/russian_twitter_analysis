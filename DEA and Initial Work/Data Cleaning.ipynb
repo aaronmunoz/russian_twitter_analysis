{
 "cells": [
  {
   "cell_type": "code",
   "execution_count": 227,
   "metadata": {},
   "outputs": [],
   "source": [
    "import numpy as np\n",
    "import pandas as pd\n",
    "import re\n",
    "import uuid\n",
    "\n",
    "import matplotlib.pyplot as plt\n",
    "import matplotlib as mpl\n",
    "\n",
    "import seaborn as sns\n",
    "sns.set()\n",
    "\n",
    "%matplotlib inline"
   ]
  },
  {
   "cell_type": "markdown",
   "metadata": {},
   "source": [
    "***\n",
    "# Initialize and perform base level cleaning #"
   ]
  },
  {
   "cell_type": "code",
   "execution_count": 99,
   "metadata": {},
   "outputs": [],
   "source": [
    "cleaned_csv_location = '../cleaned_tweets.csv'\n",
    "def save_cleaned_df(df):\n",
    "    df.to_csv(cleaned_csv_location)\n",
    "    \n",
    "def read_cleaned_df():    \n",
    "    return pd.read_csv(cleaned_csv_location, index_col='id')"
   ]
  },
  {
   "cell_type": "code",
   "execution_count": 205,
   "metadata": {},
   "outputs": [
    {
     "data": {
      "text/html": [
       "<div>\n",
       "<style>\n",
       "    .dataframe thead tr:only-child th {\n",
       "        text-align: right;\n",
       "    }\n",
       "\n",
       "    .dataframe thead th {\n",
       "        text-align: left;\n",
       "    }\n",
       "\n",
       "    .dataframe tbody tr th {\n",
       "        vertical-align: top;\n",
       "    }\n",
       "</style>\n",
       "<table border=\"1\" class=\"dataframe\">\n",
       "  <thead>\n",
       "    <tr style=\"text-align: right;\">\n",
       "      <th></th>\n",
       "      <th>user_id</th>\n",
       "      <th>user_key</th>\n",
       "      <th>retweet_count</th>\n",
       "      <th>retweeted</th>\n",
       "      <th>favorite_count</th>\n",
       "      <th>text</th>\n",
       "      <th>tweet_id</th>\n",
       "      <th>source</th>\n",
       "      <th>expanded_urls</th>\n",
       "      <th>retweeted_status_id</th>\n",
       "      <th>in_reply_to_status_id</th>\n",
       "      <th>created_datetime</th>\n",
       "    </tr>\n",
       "    <tr>\n",
       "      <th>id</th>\n",
       "      <th></th>\n",
       "      <th></th>\n",
       "      <th></th>\n",
       "      <th></th>\n",
       "      <th></th>\n",
       "      <th></th>\n",
       "      <th></th>\n",
       "      <th></th>\n",
       "      <th></th>\n",
       "      <th></th>\n",
       "      <th></th>\n",
       "      <th></th>\n",
       "    </tr>\n",
       "  </thead>\n",
       "  <tbody>\n",
       "    <tr>\n",
       "      <th>b61b5d8f-b063-41d6-bb75-bb23337deac6</th>\n",
       "      <td>1.671235e+09</td>\n",
       "      <td>hyddrox</td>\n",
       "      <td>0.0</td>\n",
       "      <td>False</td>\n",
       "      <td>0.0</td>\n",
       "      <td>RT @luvGodncountry: WHERE WERE THEY AGAINST OB...</td>\n",
       "      <td>784115860910776321</td>\n",
       "      <td>&lt;a href=\"http://twitter.com\" rel=\"nofollow\"&gt;Tw...</td>\n",
       "      <td>[]</td>\n",
       "      <td>7.841117e+17</td>\n",
       "      <td>NaN</td>\n",
       "      <td>2016-10-06 14:39:24</td>\n",
       "    </tr>\n",
       "    <tr>\n",
       "      <th>9c21de1f-2cea-4130-9f0c-254f029b00f7</th>\n",
       "      <td>1.659754e+09</td>\n",
       "      <td>karenparker93</td>\n",
       "      <td>0.0</td>\n",
       "      <td>False</td>\n",
       "      <td>0.0</td>\n",
       "      <td>RT @Just_A_Bill_: 'Beyond Tolerance': The Delu...</td>\n",
       "      <td>777965721171156992</td>\n",
       "      <td>&lt;a href=\"http://twitter.com\" rel=\"nofollow\"&gt;Tw...</td>\n",
       "      <td>[\"http://www.frontpagemag.com/fpm/264223/beyon...</td>\n",
       "      <td>7.779638e+17</td>\n",
       "      <td>NaN</td>\n",
       "      <td>2016-09-19 15:20:56</td>\n",
       "    </tr>\n",
       "    <tr>\n",
       "      <th>d4e1f5c4-ae12-4068-932d-0f351a574c02</th>\n",
       "      <td>1.657754e+09</td>\n",
       "      <td>johnbranchh</td>\n",
       "      <td>NaN</td>\n",
       "      <td>NaN</td>\n",
       "      <td>NaN</td>\n",
       "      <td>These words arrive here in an instant, from so...</td>\n",
       "      <td>556044484098539521</td>\n",
       "      <td>NaN</td>\n",
       "      <td>[]</td>\n",
       "      <td>NaN</td>\n",
       "      <td>NaN</td>\n",
       "      <td>2015-01-16 06:05:10</td>\n",
       "    </tr>\n",
       "    <tr>\n",
       "      <th>99f4b3c9-a101-489f-9555-5d10b157a106</th>\n",
       "      <td>2.882014e+09</td>\n",
       "      <td>giselleevns</td>\n",
       "      <td>0.0</td>\n",
       "      <td>False</td>\n",
       "      <td>0.0</td>\n",
       "      <td>RT @HassanMoKhan: Trump gets a good deal on a ...</td>\n",
       "      <td>765917879971840000</td>\n",
       "      <td>&lt;a href=\"https://about.twitter.com/products/tw...</td>\n",
       "      <td>[]</td>\n",
       "      <td>7.659170e+17</td>\n",
       "      <td>NaN</td>\n",
       "      <td>2016-08-17 09:27:07</td>\n",
       "    </tr>\n",
       "    <tr>\n",
       "      <th>113ddc8e-cb66-4ddb-a95c-e6398ce2dfaf</th>\n",
       "      <td>1.680366e+09</td>\n",
       "      <td>willisbonnerr</td>\n",
       "      <td>NaN</td>\n",
       "      <td>NaN</td>\n",
       "      <td>NaN</td>\n",
       "      <td>RT @FreeLabelNet: #NP: RuBezzal108 - Ru Bezzal...</td>\n",
       "      <td>818782589729337345</td>\n",
       "      <td>NaN</td>\n",
       "      <td>[]</td>\n",
       "      <td>NaN</td>\n",
       "      <td>NaN</td>\n",
       "      <td>2017-01-10 06:32:36</td>\n",
       "    </tr>\n",
       "  </tbody>\n",
       "</table>\n",
       "</div>"
      ],
      "text/plain": [
       "                                           user_id       user_key  \\\n",
       "id                                                                  \n",
       "b61b5d8f-b063-41d6-bb75-bb23337deac6  1.671235e+09        hyddrox   \n",
       "9c21de1f-2cea-4130-9f0c-254f029b00f7  1.659754e+09  karenparker93   \n",
       "d4e1f5c4-ae12-4068-932d-0f351a574c02  1.657754e+09    johnbranchh   \n",
       "99f4b3c9-a101-489f-9555-5d10b157a106  2.882014e+09    giselleevns   \n",
       "113ddc8e-cb66-4ddb-a95c-e6398ce2dfaf  1.680366e+09  willisbonnerr   \n",
       "\n",
       "                                      retweet_count retweeted  favorite_count  \\\n",
       "id                                                                              \n",
       "b61b5d8f-b063-41d6-bb75-bb23337deac6            0.0     False             0.0   \n",
       "9c21de1f-2cea-4130-9f0c-254f029b00f7            0.0     False             0.0   \n",
       "d4e1f5c4-ae12-4068-932d-0f351a574c02            NaN       NaN             NaN   \n",
       "99f4b3c9-a101-489f-9555-5d10b157a106            0.0     False             0.0   \n",
       "113ddc8e-cb66-4ddb-a95c-e6398ce2dfaf            NaN       NaN             NaN   \n",
       "\n",
       "                                                                                   text  \\\n",
       "id                                                                                        \n",
       "b61b5d8f-b063-41d6-bb75-bb23337deac6  RT @luvGodncountry: WHERE WERE THEY AGAINST OB...   \n",
       "9c21de1f-2cea-4130-9f0c-254f029b00f7  RT @Just_A_Bill_: 'Beyond Tolerance': The Delu...   \n",
       "d4e1f5c4-ae12-4068-932d-0f351a574c02  These words arrive here in an instant, from so...   \n",
       "99f4b3c9-a101-489f-9555-5d10b157a106  RT @HassanMoKhan: Trump gets a good deal on a ...   \n",
       "113ddc8e-cb66-4ddb-a95c-e6398ce2dfaf  RT @FreeLabelNet: #NP: RuBezzal108 - Ru Bezzal...   \n",
       "\n",
       "                                                tweet_id  \\\n",
       "id                                                         \n",
       "b61b5d8f-b063-41d6-bb75-bb23337deac6  784115860910776321   \n",
       "9c21de1f-2cea-4130-9f0c-254f029b00f7  777965721171156992   \n",
       "d4e1f5c4-ae12-4068-932d-0f351a574c02  556044484098539521   \n",
       "99f4b3c9-a101-489f-9555-5d10b157a106  765917879971840000   \n",
       "113ddc8e-cb66-4ddb-a95c-e6398ce2dfaf  818782589729337345   \n",
       "\n",
       "                                                                                 source  \\\n",
       "id                                                                                        \n",
       "b61b5d8f-b063-41d6-bb75-bb23337deac6  <a href=\"http://twitter.com\" rel=\"nofollow\">Tw...   \n",
       "9c21de1f-2cea-4130-9f0c-254f029b00f7  <a href=\"http://twitter.com\" rel=\"nofollow\">Tw...   \n",
       "d4e1f5c4-ae12-4068-932d-0f351a574c02                                                NaN   \n",
       "99f4b3c9-a101-489f-9555-5d10b157a106  <a href=\"https://about.twitter.com/products/tw...   \n",
       "113ddc8e-cb66-4ddb-a95c-e6398ce2dfaf                                                NaN   \n",
       "\n",
       "                                                                          expanded_urls  \\\n",
       "id                                                                                        \n",
       "b61b5d8f-b063-41d6-bb75-bb23337deac6                                                 []   \n",
       "9c21de1f-2cea-4130-9f0c-254f029b00f7  [\"http://www.frontpagemag.com/fpm/264223/beyon...   \n",
       "d4e1f5c4-ae12-4068-932d-0f351a574c02                                                 []   \n",
       "99f4b3c9-a101-489f-9555-5d10b157a106                                                 []   \n",
       "113ddc8e-cb66-4ddb-a95c-e6398ce2dfaf                                                 []   \n",
       "\n",
       "                                      retweeted_status_id  \\\n",
       "id                                                          \n",
       "b61b5d8f-b063-41d6-bb75-bb23337deac6         7.841117e+17   \n",
       "9c21de1f-2cea-4130-9f0c-254f029b00f7         7.779638e+17   \n",
       "d4e1f5c4-ae12-4068-932d-0f351a574c02                  NaN   \n",
       "99f4b3c9-a101-489f-9555-5d10b157a106         7.659170e+17   \n",
       "113ddc8e-cb66-4ddb-a95c-e6398ce2dfaf                  NaN   \n",
       "\n",
       "                                      in_reply_to_status_id  \\\n",
       "id                                                            \n",
       "b61b5d8f-b063-41d6-bb75-bb23337deac6                    NaN   \n",
       "9c21de1f-2cea-4130-9f0c-254f029b00f7                    NaN   \n",
       "d4e1f5c4-ae12-4068-932d-0f351a574c02                    NaN   \n",
       "99f4b3c9-a101-489f-9555-5d10b157a106                    NaN   \n",
       "113ddc8e-cb66-4ddb-a95c-e6398ce2dfaf                    NaN   \n",
       "\n",
       "                                        created_datetime  \n",
       "id                                                        \n",
       "b61b5d8f-b063-41d6-bb75-bb23337deac6 2016-10-06 14:39:24  \n",
       "9c21de1f-2cea-4130-9f0c-254f029b00f7 2016-09-19 15:20:56  \n",
       "d4e1f5c4-ae12-4068-932d-0f351a574c02 2015-01-16 06:05:10  \n",
       "99f4b3c9-a101-489f-9555-5d10b157a106 2016-08-17 09:27:07  \n",
       "113ddc8e-cb66-4ddb-a95c-e6398ce2dfaf 2017-01-10 06:32:36  "
      ]
     },
     "execution_count": 205,
     "metadata": {},
     "output_type": "execute_result"
    }
   ],
   "source": [
    "#tweet_id needs to be an object because pandas tries to convert it to scientific notation\n",
    "russia_df = pd.read_csv('../tweets.csv', dtype={'tweet_id': np.object})\n",
    "\n",
    "russia_df['created_datetime'] = pd.to_datetime(russia_df['created_str'])\n",
    "# converts from UTC to EST\n",
    "russia_df['created_datetime'] = russia_df['created_datetime'] - pd.Timedelta(hours=5)\n",
    "# Make the created_datetime the index\n",
    "#russia_df.set_index('created_datetime', inplace=True)\n",
    "\n",
    "# Delete columns we wont use\n",
    "del russia_df['created_str']\n",
    "del russia_df['created_at']\n",
    "del russia_df['posted']\n",
    "# I parse these out myself later in this notebook\n",
    "del russia_df['hashtags']\n",
    "del russia_df['mentions']\n",
    "\n",
    "# There are 21 null text tweets. Delete for now, but amy come back and look later\n",
    "russia_df = russia_df[~russia_df['text'].isnull()]\n",
    "\n",
    "russia_df['id'] = [uuid.uuid4() for _ in range(0,russia_df.shape[0])]\n",
    "russia_df.set_index('id',inplace=True)\n",
    "save_cleaned_df(russia_df)\n",
    "\n",
    "russia_df.sample(5)"
   ]
  },
  {
   "cell_type": "markdown",
   "metadata": {},
   "source": [
    "***\n",
    "# Extract hashtags #"
   ]
  },
  {
   "cell_type": "code",
   "execution_count": 206,
   "metadata": {},
   "outputs": [
    {
     "name": "stdout",
     "output_type": "stream",
     "text": [
      "100651\n"
     ]
    },
    {
     "data": {
      "text/html": [
       "<div>\n",
       "<style>\n",
       "    .dataframe thead tr:only-child th {\n",
       "        text-align: right;\n",
       "    }\n",
       "\n",
       "    .dataframe thead th {\n",
       "        text-align: left;\n",
       "    }\n",
       "\n",
       "    .dataframe tbody tr th {\n",
       "        vertical-align: top;\n",
       "    }\n",
       "</style>\n",
       "<table border=\"1\" class=\"dataframe\">\n",
       "  <thead>\n",
       "    <tr style=\"text-align: right;\">\n",
       "      <th></th>\n",
       "      <th>user_id</th>\n",
       "      <th>user_key</th>\n",
       "      <th>retweet_count</th>\n",
       "      <th>retweeted</th>\n",
       "      <th>favorite_count</th>\n",
       "      <th>text</th>\n",
       "      <th>tweet_id</th>\n",
       "      <th>source</th>\n",
       "      <th>expanded_urls</th>\n",
       "      <th>retweeted_status_id</th>\n",
       "      <th>in_reply_to_status_id</th>\n",
       "      <th>created_datetime</th>\n",
       "    </tr>\n",
       "    <tr>\n",
       "      <th>id</th>\n",
       "      <th></th>\n",
       "      <th></th>\n",
       "      <th></th>\n",
       "      <th></th>\n",
       "      <th></th>\n",
       "      <th></th>\n",
       "      <th></th>\n",
       "      <th></th>\n",
       "      <th></th>\n",
       "      <th></th>\n",
       "      <th></th>\n",
       "      <th></th>\n",
       "    </tr>\n",
       "  </thead>\n",
       "  <tbody>\n",
       "    <tr>\n",
       "      <th>e3bf78c4-9586-4c31-9b34-89aeb904bb68</th>\n",
       "      <td>1.629828e+09</td>\n",
       "      <td>cassishere</td>\n",
       "      <td>0.0</td>\n",
       "      <td>False</td>\n",
       "      <td>0.0</td>\n",
       "      <td>RT @VoteTrumpMAGA: .\\nA New Government...\\n\\n#...</td>\n",
       "      <td>777501002077392896</td>\n",
       "      <td>&lt;a href=\"http://twitter.com\" rel=\"nofollow\"&gt;Tw...</td>\n",
       "      <td>[]</td>\n",
       "      <td>7.774676e+17</td>\n",
       "      <td>NaN</td>\n",
       "      <td>2016-09-18 08:34:18</td>\n",
       "    </tr>\n",
       "    <tr>\n",
       "      <th>49ae5739-5257-4bab-b67e-3c5ee4ce5cb8</th>\n",
       "      <td>2.882014e+09</td>\n",
       "      <td>giselleevns</td>\n",
       "      <td>NaN</td>\n",
       "      <td>NaN</td>\n",
       "      <td>NaN</td>\n",
       "      <td>#MakeMeHateYouInOnePhrase no, you can't leave ...</td>\n",
       "      <td>788006852474892288</td>\n",
       "      <td>NaN</td>\n",
       "      <td>[]</td>\n",
       "      <td>NaN</td>\n",
       "      <td>NaN</td>\n",
       "      <td>2016-10-17 08:20:48</td>\n",
       "    </tr>\n",
       "  </tbody>\n",
       "</table>\n",
       "</div>"
      ],
      "text/plain": [
       "                                           user_id     user_key  \\\n",
       "id                                                                \n",
       "e3bf78c4-9586-4c31-9b34-89aeb904bb68  1.629828e+09   cassishere   \n",
       "49ae5739-5257-4bab-b67e-3c5ee4ce5cb8  2.882014e+09  giselleevns   \n",
       "\n",
       "                                      retweet_count retweeted  favorite_count  \\\n",
       "id                                                                              \n",
       "e3bf78c4-9586-4c31-9b34-89aeb904bb68            0.0     False             0.0   \n",
       "49ae5739-5257-4bab-b67e-3c5ee4ce5cb8            NaN       NaN             NaN   \n",
       "\n",
       "                                                                                   text  \\\n",
       "id                                                                                        \n",
       "e3bf78c4-9586-4c31-9b34-89aeb904bb68  RT @VoteTrumpMAGA: .\\nA New Government...\\n\\n#...   \n",
       "49ae5739-5257-4bab-b67e-3c5ee4ce5cb8  #MakeMeHateYouInOnePhrase no, you can't leave ...   \n",
       "\n",
       "                                                tweet_id  \\\n",
       "id                                                         \n",
       "e3bf78c4-9586-4c31-9b34-89aeb904bb68  777501002077392896   \n",
       "49ae5739-5257-4bab-b67e-3c5ee4ce5cb8  788006852474892288   \n",
       "\n",
       "                                                                                 source  \\\n",
       "id                                                                                        \n",
       "e3bf78c4-9586-4c31-9b34-89aeb904bb68  <a href=\"http://twitter.com\" rel=\"nofollow\">Tw...   \n",
       "49ae5739-5257-4bab-b67e-3c5ee4ce5cb8                                                NaN   \n",
       "\n",
       "                                     expanded_urls  retweeted_status_id  \\\n",
       "id                                                                        \n",
       "e3bf78c4-9586-4c31-9b34-89aeb904bb68            []         7.774676e+17   \n",
       "49ae5739-5257-4bab-b67e-3c5ee4ce5cb8            []                  NaN   \n",
       "\n",
       "                                      in_reply_to_status_id  \\\n",
       "id                                                            \n",
       "e3bf78c4-9586-4c31-9b34-89aeb904bb68                    NaN   \n",
       "49ae5739-5257-4bab-b67e-3c5ee4ce5cb8                    NaN   \n",
       "\n",
       "                                        created_datetime  \n",
       "id                                                        \n",
       "e3bf78c4-9586-4c31-9b34-89aeb904bb68 2016-09-18 08:34:18  \n",
       "49ae5739-5257-4bab-b67e-3c5ee4ce5cb8 2016-10-17 08:20:48  "
      ]
     },
     "execution_count": 206,
     "metadata": {},
     "output_type": "execute_result"
    }
   ],
   "source": [
    "tweets_with_hashtags = russia_df[russia_df['text'].str.contains('#\\w+')]\n",
    "\n",
    "print(tweets_with_hashtags.shape[0])\n",
    "tweets_with_hashtags.sample(2)"
   ]
  },
  {
   "cell_type": "code",
   "execution_count": 207,
   "metadata": {},
   "outputs": [],
   "source": [
    "hash_df = russia_df['text'].str.extractall('(#\\w+)')"
   ]
  },
  {
   "cell_type": "code",
   "execution_count": 208,
   "metadata": {},
   "outputs": [],
   "source": [
    "hash_df = hash_df.reset_index().set_index('id')\n",
    "del hash_df['match']\n",
    "\n",
    "hash_df.to_csv('../csvs/hashtags.csv')"
   ]
  },
  {
   "cell_type": "code",
   "execution_count": 209,
   "metadata": {},
   "outputs": [
    {
     "data": {
      "text/plain": [
       "#politics             3638\n",
       "#tcot                 2839\n",
       "#MAGA                 2538\n",
       "#PJNET                2147\n",
       "#news                 2046\n",
       "#Trump                1851\n",
       "#Merkelmussbleiben    1108\n",
       "#TrumpForPresident    1088\n",
       "#WakeUpAmerica        1061\n",
       "#NeverHillary          976\n",
       "Name: 0, dtype: int64"
      ]
     },
     "execution_count": 209,
     "metadata": {},
     "output_type": "execute_result"
    }
   ],
   "source": [
    "hash_df[0].value_counts().head(10)"
   ]
  },
  {
   "cell_type": "markdown",
   "metadata": {},
   "source": [
    "***\n",
    "# Extract mentions #"
   ]
  },
  {
   "cell_type": "code",
   "execution_count": 210,
   "metadata": {},
   "outputs": [],
   "source": [
    "mentions_df = russia_df['text'].str.extractall('(@\\w+)')\n",
    "mentions_df = mentions_df.reset_index().set_index('id')\n",
    "del mentions_df['match']\n",
    "\n",
    "mentions_df.to_csv('../csvs/mentions.csv')"
   ]
  },
  {
   "cell_type": "code",
   "execution_count": 211,
   "metadata": {},
   "outputs": [
    {
     "data": {
      "text/plain": [
       "@realDonaldTrump    4567\n",
       "@midnight           2584\n",
       "@HillaryClinton     2343\n",
       "@blicqer            2238\n",
       "@Conservatexian     1105\n",
       "@POTUS               909\n",
       "@FoxNews             744\n",
       "@YouTube             557\n",
       "@PrisonPlanet        554\n",
       "@nine_oh             538\n",
       "Name: 0, dtype: int64"
      ]
     },
     "execution_count": 211,
     "metadata": {},
     "output_type": "execute_result"
    }
   ],
   "source": [
    "mentions_df[0].value_counts().head(10)"
   ]
  },
  {
   "cell_type": "markdown",
   "metadata": {},
   "source": [
    "***\n",
    "# source #\n",
    "\n",
    "** 'source' is the client that performed the tweet (not consistently stamped) **"
   ]
  },
  {
   "cell_type": "code",
   "execution_count": 233,
   "metadata": {},
   "outputs": [
    {
     "data": {
      "text/plain": [
       "<a href=\"http://twitter.com\" rel=\"nofollow\">Twitter Web Client</a>                     42685\n",
       "<a href=\"http://twitterfeed.com\" rel=\"nofollow\">twitterfeed</a>                         6926\n",
       "<a href=\"https://about.twitter.com/products/tweetdeck\" rel=\"nofollow\">TweetDeck</a>     6409\n",
       "<a href=\"http://twibble.io\" rel=\"nofollow\">Twibble.io</a>                               1491\n",
       "<a href=\"http://dlvr.it\" rel=\"nofollow\">dlvr.it</a>                                      243\n",
       "Name: source, dtype: int64"
      ]
     },
     "execution_count": 233,
     "metadata": {},
     "output_type": "execute_result"
    }
   ],
   "source": [
    "russia_df.sort_values('source', ascending=False)['source'].value_counts()[:5]"
   ]
  },
  {
   "cell_type": "markdown",
   "metadata": {},
   "source": [
    "***\n",
    "# Extract URLs #"
   ]
  },
  {
   "cell_type": "code",
   "execution_count": 121,
   "metadata": {},
   "outputs": [
    {
     "data": {
      "text/plain": [
       "(107267, 14)"
      ]
     },
     "execution_count": 121,
     "metadata": {},
     "output_type": "execute_result"
    }
   ],
   "source": [
    "tweets_with_links = russia_df[russia_df['text'].str.contains('https')]\n",
    "\n",
    "tweets_with_links.shape"
   ]
  },
  {
   "cell_type": "code",
   "execution_count": 122,
   "metadata": {},
   "outputs": [
    {
     "data": {
      "text/plain": [
       "array([ 'RT @ComplexMusic: Exclusive: @ImmortalTech opens up about his relationship with @Lin_Manuel and high school bullying https://t.co/9ZDmia9ll…',\n",
       "       \"RT @DRUDGE_REPORT: SUPPORTERS GATHER FOR 'MARCH 4 TRUMP' RALLIES AROUND USA... https://t.co/XTWJp4wWTP\",\n",
       "       'RT @blackcat9508: She can always play a live action Miss Piggy. Barbie should have been Taylor Swift🐷 https://t.co/Hd0ishNgCt',\n",
       "       'RT @DarkVoid255: MT @iamgavinjames: This man was destroyed and disowned for far less - yet @HillaryClinton walks? https://t.co/owbyE5lpwD #…',\n",
       "       \"&amp; don't expect me to follow what your religion requires from you! Not gonna happen. \\n#Trump2016\\n#IslamIsTheProblem https://t.co/wUGBEeIDkt\"], dtype=object)"
      ]
     },
     "execution_count": 122,
     "metadata": {},
     "output_type": "execute_result"
    }
   ],
   "source": [
    "tweets_with_links['text'].sample(5).values"
   ]
  },
  {
   "cell_type": "code",
   "execution_count": 128,
   "metadata": {},
   "outputs": [],
   "source": [
    "#url_regex = '(https?:\\/\\/(www\\.)?[-a-zA-Z0-9@:%._\\+~#=]{1,256}\\.[a-z]{2,4}\\b([-a-zA-Z0-9@:%_\\+.~#?&//=]*))'\n",
    "#tweets_with_links['text'].str.extractall(url_regex, expand=True);"
   ]
  },
  {
   "cell_type": "code",
   "execution_count": null,
   "metadata": {},
   "outputs": [],
   "source": []
  }
 ],
 "metadata": {
  "kernelspec": {
   "display_name": "Python 3",
   "language": "python",
   "name": "python3"
  },
  "language_info": {
   "codemirror_mode": {
    "name": "ipython",
    "version": 3
   },
   "file_extension": ".py",
   "mimetype": "text/x-python",
   "name": "python",
   "nbconvert_exporter": "python",
   "pygments_lexer": "ipython3",
   "version": "3.6.4"
  }
 },
 "nbformat": 4,
 "nbformat_minor": 2
}
